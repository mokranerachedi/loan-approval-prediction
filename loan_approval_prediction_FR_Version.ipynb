{
  "nbformat": 4,
  "nbformat_minor": 0,
  "metadata": {
    "colab": {
      "name": "loan_approval_prediction_FR_Version.ipynb",
      "provenance": [],
      "collapsed_sections": [],
      "authorship_tag": "ABX9TyNqZrxYvZJwwUzutxE49Frp",
      "include_colab_link": true
    },
    "kernelspec": {
      "name": "python3",
      "display_name": "Python 3"
    },
    "language_info": {
      "name": "python"
    }
  },
  "cells": [
    {
      "cell_type": "markdown",
      "metadata": {
        "id": "view-in-github",
        "colab_type": "text"
      },
      "source": [
        "<a href=\"https://colab.research.google.com/github/mokranerachedi/loan-approval-prediction/blob/main/loan_approval_prediction_FR_Version.ipynb\" target=\"_parent\"><img src=\"https://colab.research.google.com/assets/colab-badge.svg\" alt=\"Open In Colab\"/></a>"
      ]
    },
    {
      "cell_type": "markdown",
      "source": [
        "# **Prédiction des approbations de prêts**\n",
        "\n",
        "Prédiction des approbations de prêt à l'aide de l'apprentissage automatique."
      ],
      "metadata": {
        "id": "Ofon_D3St5F8"
      }
    },
    {
      "cell_type": "markdown",
      "source": [
        "## **Importer les packages**"
      ],
      "metadata": {
        "id": "R_YxqLvuvNqS"
      }
    },
    {
      "cell_type": "code",
      "source": [
        "import pandas as pd\n",
        "import numpy as np\n",
        "import matplotlib.pyplot as plt\n",
        "import seaborn as sns\n",
        "import warnings\n",
        "warnings.filterwarnings('ignore')"
      ],
      "metadata": {
        "id": "yB8eObcevQwr"
      },
      "execution_count": 42,
      "outputs": []
    },
    {
      "cell_type": "markdown",
      "source": [
        "## **Charger les données**"
      ],
      "metadata": {
        "id": "cbTFh0HdvdG6"
      }
    },
    {
      "cell_type": "code",
      "source": [
        "df = pd.read_csv('/content/train_ctrUa4K.csv')\n",
        "df.head()"
      ],
      "metadata": {
        "colab": {
          "base_uri": "https://localhost:8080/",
          "height": 288
        },
        "id": "D2kLVA8mvio3",
        "outputId": "8c49486f-b4b1-4aa1-fb24-1ce6251f3d6f"
      },
      "execution_count": 43,
      "outputs": [
        {
          "output_type": "execute_result",
          "data": {
            "text/html": [
              "\n",
              "  <div id=\"df-828c2757-9a4f-47ca-9cb6-ffbb699a7b5b\">\n",
              "    <div class=\"colab-df-container\">\n",
              "      <div>\n",
              "<style scoped>\n",
              "    .dataframe tbody tr th:only-of-type {\n",
              "        vertical-align: middle;\n",
              "    }\n",
              "\n",
              "    .dataframe tbody tr th {\n",
              "        vertical-align: top;\n",
              "    }\n",
              "\n",
              "    .dataframe thead th {\n",
              "        text-align: right;\n",
              "    }\n",
              "</style>\n",
              "<table border=\"1\" class=\"dataframe\">\n",
              "  <thead>\n",
              "    <tr style=\"text-align: right;\">\n",
              "      <th></th>\n",
              "      <th>Loan_ID</th>\n",
              "      <th>Gender</th>\n",
              "      <th>Married</th>\n",
              "      <th>Dependents</th>\n",
              "      <th>Education</th>\n",
              "      <th>Self_Employed</th>\n",
              "      <th>ApplicantIncome</th>\n",
              "      <th>CoapplicantIncome</th>\n",
              "      <th>LoanAmount</th>\n",
              "      <th>Loan_Amount_Term</th>\n",
              "      <th>Credit_History</th>\n",
              "      <th>Property_Area</th>\n",
              "      <th>Loan_Status</th>\n",
              "    </tr>\n",
              "  </thead>\n",
              "  <tbody>\n",
              "    <tr>\n",
              "      <th>0</th>\n",
              "      <td>LP001002</td>\n",
              "      <td>Male</td>\n",
              "      <td>No</td>\n",
              "      <td>0</td>\n",
              "      <td>Graduate</td>\n",
              "      <td>No</td>\n",
              "      <td>5849</td>\n",
              "      <td>0.0</td>\n",
              "      <td>NaN</td>\n",
              "      <td>360.0</td>\n",
              "      <td>1.0</td>\n",
              "      <td>Urban</td>\n",
              "      <td>Y</td>\n",
              "    </tr>\n",
              "    <tr>\n",
              "      <th>1</th>\n",
              "      <td>LP001003</td>\n",
              "      <td>Male</td>\n",
              "      <td>Yes</td>\n",
              "      <td>1</td>\n",
              "      <td>Graduate</td>\n",
              "      <td>No</td>\n",
              "      <td>4583</td>\n",
              "      <td>1508.0</td>\n",
              "      <td>128.0</td>\n",
              "      <td>360.0</td>\n",
              "      <td>1.0</td>\n",
              "      <td>Rural</td>\n",
              "      <td>N</td>\n",
              "    </tr>\n",
              "    <tr>\n",
              "      <th>2</th>\n",
              "      <td>LP001005</td>\n",
              "      <td>Male</td>\n",
              "      <td>Yes</td>\n",
              "      <td>0</td>\n",
              "      <td>Graduate</td>\n",
              "      <td>Yes</td>\n",
              "      <td>3000</td>\n",
              "      <td>0.0</td>\n",
              "      <td>66.0</td>\n",
              "      <td>360.0</td>\n",
              "      <td>1.0</td>\n",
              "      <td>Urban</td>\n",
              "      <td>Y</td>\n",
              "    </tr>\n",
              "    <tr>\n",
              "      <th>3</th>\n",
              "      <td>LP001006</td>\n",
              "      <td>Male</td>\n",
              "      <td>Yes</td>\n",
              "      <td>0</td>\n",
              "      <td>Not Graduate</td>\n",
              "      <td>No</td>\n",
              "      <td>2583</td>\n",
              "      <td>2358.0</td>\n",
              "      <td>120.0</td>\n",
              "      <td>360.0</td>\n",
              "      <td>1.0</td>\n",
              "      <td>Urban</td>\n",
              "      <td>Y</td>\n",
              "    </tr>\n",
              "    <tr>\n",
              "      <th>4</th>\n",
              "      <td>LP001008</td>\n",
              "      <td>Male</td>\n",
              "      <td>No</td>\n",
              "      <td>0</td>\n",
              "      <td>Graduate</td>\n",
              "      <td>No</td>\n",
              "      <td>6000</td>\n",
              "      <td>0.0</td>\n",
              "      <td>141.0</td>\n",
              "      <td>360.0</td>\n",
              "      <td>1.0</td>\n",
              "      <td>Urban</td>\n",
              "      <td>Y</td>\n",
              "    </tr>\n",
              "  </tbody>\n",
              "</table>\n",
              "</div>\n",
              "      <button class=\"colab-df-convert\" onclick=\"convertToInteractive('df-828c2757-9a4f-47ca-9cb6-ffbb699a7b5b')\"\n",
              "              title=\"Convert this dataframe to an interactive table.\"\n",
              "              style=\"display:none;\">\n",
              "        \n",
              "  <svg xmlns=\"http://www.w3.org/2000/svg\" height=\"24px\"viewBox=\"0 0 24 24\"\n",
              "       width=\"24px\">\n",
              "    <path d=\"M0 0h24v24H0V0z\" fill=\"none\"/>\n",
              "    <path d=\"M18.56 5.44l.94 2.06.94-2.06 2.06-.94-2.06-.94-.94-2.06-.94 2.06-2.06.94zm-11 1L8.5 8.5l.94-2.06 2.06-.94-2.06-.94L8.5 2.5l-.94 2.06-2.06.94zm10 10l.94 2.06.94-2.06 2.06-.94-2.06-.94-.94-2.06-.94 2.06-2.06.94z\"/><path d=\"M17.41 7.96l-1.37-1.37c-.4-.4-.92-.59-1.43-.59-.52 0-1.04.2-1.43.59L10.3 9.45l-7.72 7.72c-.78.78-.78 2.05 0 2.83L4 21.41c.39.39.9.59 1.41.59.51 0 1.02-.2 1.41-.59l7.78-7.78 2.81-2.81c.8-.78.8-2.07 0-2.86zM5.41 20L4 18.59l7.72-7.72 1.47 1.35L5.41 20z\"/>\n",
              "  </svg>\n",
              "      </button>\n",
              "      \n",
              "  <style>\n",
              "    .colab-df-container {\n",
              "      display:flex;\n",
              "      flex-wrap:wrap;\n",
              "      gap: 12px;\n",
              "    }\n",
              "\n",
              "    .colab-df-convert {\n",
              "      background-color: #E8F0FE;\n",
              "      border: none;\n",
              "      border-radius: 50%;\n",
              "      cursor: pointer;\n",
              "      display: none;\n",
              "      fill: #1967D2;\n",
              "      height: 32px;\n",
              "      padding: 0 0 0 0;\n",
              "      width: 32px;\n",
              "    }\n",
              "\n",
              "    .colab-df-convert:hover {\n",
              "      background-color: #E2EBFA;\n",
              "      box-shadow: 0px 1px 2px rgba(60, 64, 67, 0.3), 0px 1px 3px 1px rgba(60, 64, 67, 0.15);\n",
              "      fill: #174EA6;\n",
              "    }\n",
              "\n",
              "    [theme=dark] .colab-df-convert {\n",
              "      background-color: #3B4455;\n",
              "      fill: #D2E3FC;\n",
              "    }\n",
              "\n",
              "    [theme=dark] .colab-df-convert:hover {\n",
              "      background-color: #434B5C;\n",
              "      box-shadow: 0px 1px 3px 1px rgba(0, 0, 0, 0.15);\n",
              "      filter: drop-shadow(0px 1px 2px rgba(0, 0, 0, 0.3));\n",
              "      fill: #FFFFFF;\n",
              "    }\n",
              "  </style>\n",
              "\n",
              "      <script>\n",
              "        const buttonEl =\n",
              "          document.querySelector('#df-828c2757-9a4f-47ca-9cb6-ffbb699a7b5b button.colab-df-convert');\n",
              "        buttonEl.style.display =\n",
              "          google.colab.kernel.accessAllowed ? 'block' : 'none';\n",
              "\n",
              "        async function convertToInteractive(key) {\n",
              "          const element = document.querySelector('#df-828c2757-9a4f-47ca-9cb6-ffbb699a7b5b');\n",
              "          const dataTable =\n",
              "            await google.colab.kernel.invokeFunction('convertToInteractive',\n",
              "                                                     [key], {});\n",
              "          if (!dataTable) return;\n",
              "\n",
              "          const docLinkHtml = 'Like what you see? Visit the ' +\n",
              "            '<a target=\"_blank\" href=https://colab.research.google.com/notebooks/data_table.ipynb>data table notebook</a>'\n",
              "            + ' to learn more about interactive tables.';\n",
              "          element.innerHTML = '';\n",
              "          dataTable['output_type'] = 'display_data';\n",
              "          await google.colab.output.renderOutput(dataTable, element);\n",
              "          const docLink = document.createElement('div');\n",
              "          docLink.innerHTML = docLinkHtml;\n",
              "          element.appendChild(docLink);\n",
              "        }\n",
              "      </script>\n",
              "    </div>\n",
              "  </div>\n",
              "  "
            ],
            "text/plain": [
              "    Loan_ID Gender Married  ... Credit_History Property_Area Loan_Status\n",
              "0  LP001002   Male      No  ...            1.0         Urban           Y\n",
              "1  LP001003   Male     Yes  ...            1.0         Rural           N\n",
              "2  LP001005   Male     Yes  ...            1.0         Urban           Y\n",
              "3  LP001006   Male     Yes  ...            1.0         Urban           Y\n",
              "4  LP001008   Male      No  ...            1.0         Urban           Y\n",
              "\n",
              "[5 rows x 13 columns]"
            ]
          },
          "metadata": {},
          "execution_count": 43
        }
      ]
    },
    {
      "cell_type": "markdown",
      "source": [
        "## **Analyse Exploratoire des Données (EDA)**"
      ],
      "metadata": {
        "id": "lN38kG_tv_VM"
      }
    },
    {
      "cell_type": "markdown",
      "source": [
        "### **Analyse de forme**"
      ],
      "metadata": {
        "id": "KhksCQi7wyWm"
      }
    },
    {
      "cell_type": "code",
      "source": [
        "# La forme du dataframe\n",
        "print(df.shape)\n",
        "print(\"Le nombre de lignes :\", df.shape[0])\n",
        "print(\"Le nombre de colonnes :\", df.shape[1])"
      ],
      "metadata": {
        "colab": {
          "base_uri": "https://localhost:8080/"
        },
        "id": "FJ7e_ljOwAo-",
        "outputId": "95a4fb1c-6051-435d-b40e-920584cd16a9"
      },
      "execution_count": 44,
      "outputs": [
        {
          "output_type": "stream",
          "name": "stdout",
          "text": [
            "(614, 13)\n",
            "Le nombre de lignes : 614\n",
            "Le nombre de colonnes : 13\n"
          ]
        }
      ]
    },
    {
      "cell_type": "code",
      "source": [
        "# Liste des colonnes\n",
        "df.columns"
      ],
      "metadata": {
        "colab": {
          "base_uri": "https://localhost:8080/"
        },
        "id": "hSqBs-DMwFdN",
        "outputId": "6f75acf6-fb8f-467f-b9a9-52b8aebe2922"
      },
      "execution_count": 45,
      "outputs": [
        {
          "output_type": "execute_result",
          "data": {
            "text/plain": [
              "Index(['Loan_ID', 'Gender', 'Married', 'Dependents', 'Education',\n",
              "       'Self_Employed', 'ApplicantIncome', 'CoapplicantIncome', 'LoanAmount',\n",
              "       'Loan_Amount_Term', 'Credit_History', 'Property_Area', 'Loan_Status'],\n",
              "      dtype='object')"
            ]
          },
          "metadata": {},
          "execution_count": 45
        }
      ]
    },
    {
      "cell_type": "code",
      "source": [
        "# Informations sur le dataframe\n",
        "df.info()"
      ],
      "metadata": {
        "colab": {
          "base_uri": "https://localhost:8080/"
        },
        "id": "kBzTYRyhwIVA",
        "outputId": "a7adc8f1-70ad-4399-8185-a85ea1e02172"
      },
      "execution_count": 46,
      "outputs": [
        {
          "output_type": "stream",
          "name": "stdout",
          "text": [
            "<class 'pandas.core.frame.DataFrame'>\n",
            "RangeIndex: 614 entries, 0 to 613\n",
            "Data columns (total 13 columns):\n",
            " #   Column             Non-Null Count  Dtype  \n",
            "---  ------             --------------  -----  \n",
            " 0   Loan_ID            614 non-null    object \n",
            " 1   Gender             601 non-null    object \n",
            " 2   Married            611 non-null    object \n",
            " 3   Dependents         599 non-null    object \n",
            " 4   Education          614 non-null    object \n",
            " 5   Self_Employed      582 non-null    object \n",
            " 6   ApplicantIncome    614 non-null    int64  \n",
            " 7   CoapplicantIncome  614 non-null    float64\n",
            " 8   LoanAmount         592 non-null    float64\n",
            " 9   Loan_Amount_Term   600 non-null    float64\n",
            " 10  Credit_History     564 non-null    float64\n",
            " 11  Property_Area      614 non-null    object \n",
            " 12  Loan_Status        614 non-null    object \n",
            "dtypes: float64(4), int64(1), object(8)\n",
            "memory usage: 62.5+ KB\n"
          ]
        }
      ]
    },
    {
      "cell_type": "code",
      "source": [
        "# Les types de données\n",
        "df.dtypes.value_counts()"
      ],
      "metadata": {
        "colab": {
          "base_uri": "https://localhost:8080/"
        },
        "id": "X4vxr5tRwJ1W",
        "outputId": "cab88cea-8b04-41f1-ecf4-e84e57ceb26e"
      },
      "execution_count": 47,
      "outputs": [
        {
          "output_type": "execute_result",
          "data": {
            "text/plain": [
              "object     8\n",
              "float64    4\n",
              "int64      1\n",
              "dtype: int64"
            ]
          },
          "metadata": {},
          "execution_count": 47
        }
      ]
    },
    {
      "cell_type": "code",
      "source": [
        "# Descriptif statistique des données\n",
        "df.describe()"
      ],
      "metadata": {
        "colab": {
          "base_uri": "https://localhost:8080/",
          "height": 300
        },
        "id": "ItXwqaZDwPDH",
        "outputId": "b548f55a-5f6c-4bc3-9d25-d8b617b69281"
      },
      "execution_count": 48,
      "outputs": [
        {
          "output_type": "execute_result",
          "data": {
            "text/html": [
              "\n",
              "  <div id=\"df-304fe265-7db6-4d94-8be1-0982a8071155\">\n",
              "    <div class=\"colab-df-container\">\n",
              "      <div>\n",
              "<style scoped>\n",
              "    .dataframe tbody tr th:only-of-type {\n",
              "        vertical-align: middle;\n",
              "    }\n",
              "\n",
              "    .dataframe tbody tr th {\n",
              "        vertical-align: top;\n",
              "    }\n",
              "\n",
              "    .dataframe thead th {\n",
              "        text-align: right;\n",
              "    }\n",
              "</style>\n",
              "<table border=\"1\" class=\"dataframe\">\n",
              "  <thead>\n",
              "    <tr style=\"text-align: right;\">\n",
              "      <th></th>\n",
              "      <th>ApplicantIncome</th>\n",
              "      <th>CoapplicantIncome</th>\n",
              "      <th>LoanAmount</th>\n",
              "      <th>Loan_Amount_Term</th>\n",
              "      <th>Credit_History</th>\n",
              "    </tr>\n",
              "  </thead>\n",
              "  <tbody>\n",
              "    <tr>\n",
              "      <th>count</th>\n",
              "      <td>614.000000</td>\n",
              "      <td>614.000000</td>\n",
              "      <td>592.000000</td>\n",
              "      <td>600.00000</td>\n",
              "      <td>564.000000</td>\n",
              "    </tr>\n",
              "    <tr>\n",
              "      <th>mean</th>\n",
              "      <td>5403.459283</td>\n",
              "      <td>1621.245798</td>\n",
              "      <td>146.412162</td>\n",
              "      <td>342.00000</td>\n",
              "      <td>0.842199</td>\n",
              "    </tr>\n",
              "    <tr>\n",
              "      <th>std</th>\n",
              "      <td>6109.041673</td>\n",
              "      <td>2926.248369</td>\n",
              "      <td>85.587325</td>\n",
              "      <td>65.12041</td>\n",
              "      <td>0.364878</td>\n",
              "    </tr>\n",
              "    <tr>\n",
              "      <th>min</th>\n",
              "      <td>150.000000</td>\n",
              "      <td>0.000000</td>\n",
              "      <td>9.000000</td>\n",
              "      <td>12.00000</td>\n",
              "      <td>0.000000</td>\n",
              "    </tr>\n",
              "    <tr>\n",
              "      <th>25%</th>\n",
              "      <td>2877.500000</td>\n",
              "      <td>0.000000</td>\n",
              "      <td>100.000000</td>\n",
              "      <td>360.00000</td>\n",
              "      <td>1.000000</td>\n",
              "    </tr>\n",
              "    <tr>\n",
              "      <th>50%</th>\n",
              "      <td>3812.500000</td>\n",
              "      <td>1188.500000</td>\n",
              "      <td>128.000000</td>\n",
              "      <td>360.00000</td>\n",
              "      <td>1.000000</td>\n",
              "    </tr>\n",
              "    <tr>\n",
              "      <th>75%</th>\n",
              "      <td>5795.000000</td>\n",
              "      <td>2297.250000</td>\n",
              "      <td>168.000000</td>\n",
              "      <td>360.00000</td>\n",
              "      <td>1.000000</td>\n",
              "    </tr>\n",
              "    <tr>\n",
              "      <th>max</th>\n",
              "      <td>81000.000000</td>\n",
              "      <td>41667.000000</td>\n",
              "      <td>700.000000</td>\n",
              "      <td>480.00000</td>\n",
              "      <td>1.000000</td>\n",
              "    </tr>\n",
              "  </tbody>\n",
              "</table>\n",
              "</div>\n",
              "      <button class=\"colab-df-convert\" onclick=\"convertToInteractive('df-304fe265-7db6-4d94-8be1-0982a8071155')\"\n",
              "              title=\"Convert this dataframe to an interactive table.\"\n",
              "              style=\"display:none;\">\n",
              "        \n",
              "  <svg xmlns=\"http://www.w3.org/2000/svg\" height=\"24px\"viewBox=\"0 0 24 24\"\n",
              "       width=\"24px\">\n",
              "    <path d=\"M0 0h24v24H0V0z\" fill=\"none\"/>\n",
              "    <path d=\"M18.56 5.44l.94 2.06.94-2.06 2.06-.94-2.06-.94-.94-2.06-.94 2.06-2.06.94zm-11 1L8.5 8.5l.94-2.06 2.06-.94-2.06-.94L8.5 2.5l-.94 2.06-2.06.94zm10 10l.94 2.06.94-2.06 2.06-.94-2.06-.94-.94-2.06-.94 2.06-2.06.94z\"/><path d=\"M17.41 7.96l-1.37-1.37c-.4-.4-.92-.59-1.43-.59-.52 0-1.04.2-1.43.59L10.3 9.45l-7.72 7.72c-.78.78-.78 2.05 0 2.83L4 21.41c.39.39.9.59 1.41.59.51 0 1.02-.2 1.41-.59l7.78-7.78 2.81-2.81c.8-.78.8-2.07 0-2.86zM5.41 20L4 18.59l7.72-7.72 1.47 1.35L5.41 20z\"/>\n",
              "  </svg>\n",
              "      </button>\n",
              "      \n",
              "  <style>\n",
              "    .colab-df-container {\n",
              "      display:flex;\n",
              "      flex-wrap:wrap;\n",
              "      gap: 12px;\n",
              "    }\n",
              "\n",
              "    .colab-df-convert {\n",
              "      background-color: #E8F0FE;\n",
              "      border: none;\n",
              "      border-radius: 50%;\n",
              "      cursor: pointer;\n",
              "      display: none;\n",
              "      fill: #1967D2;\n",
              "      height: 32px;\n",
              "      padding: 0 0 0 0;\n",
              "      width: 32px;\n",
              "    }\n",
              "\n",
              "    .colab-df-convert:hover {\n",
              "      background-color: #E2EBFA;\n",
              "      box-shadow: 0px 1px 2px rgba(60, 64, 67, 0.3), 0px 1px 3px 1px rgba(60, 64, 67, 0.15);\n",
              "      fill: #174EA6;\n",
              "    }\n",
              "\n",
              "    [theme=dark] .colab-df-convert {\n",
              "      background-color: #3B4455;\n",
              "      fill: #D2E3FC;\n",
              "    }\n",
              "\n",
              "    [theme=dark] .colab-df-convert:hover {\n",
              "      background-color: #434B5C;\n",
              "      box-shadow: 0px 1px 3px 1px rgba(0, 0, 0, 0.15);\n",
              "      filter: drop-shadow(0px 1px 2px rgba(0, 0, 0, 0.3));\n",
              "      fill: #FFFFFF;\n",
              "    }\n",
              "  </style>\n",
              "\n",
              "      <script>\n",
              "        const buttonEl =\n",
              "          document.querySelector('#df-304fe265-7db6-4d94-8be1-0982a8071155 button.colab-df-convert');\n",
              "        buttonEl.style.display =\n",
              "          google.colab.kernel.accessAllowed ? 'block' : 'none';\n",
              "\n",
              "        async function convertToInteractive(key) {\n",
              "          const element = document.querySelector('#df-304fe265-7db6-4d94-8be1-0982a8071155');\n",
              "          const dataTable =\n",
              "            await google.colab.kernel.invokeFunction('convertToInteractive',\n",
              "                                                     [key], {});\n",
              "          if (!dataTable) return;\n",
              "\n",
              "          const docLinkHtml = 'Like what you see? Visit the ' +\n",
              "            '<a target=\"_blank\" href=https://colab.research.google.com/notebooks/data_table.ipynb>data table notebook</a>'\n",
              "            + ' to learn more about interactive tables.';\n",
              "          element.innerHTML = '';\n",
              "          dataTable['output_type'] = 'display_data';\n",
              "          await google.colab.output.renderOutput(dataTable, element);\n",
              "          const docLink = document.createElement('div');\n",
              "          docLink.innerHTML = docLinkHtml;\n",
              "          element.appendChild(docLink);\n",
              "        }\n",
              "      </script>\n",
              "    </div>\n",
              "  </div>\n",
              "  "
            ],
            "text/plain": [
              "       ApplicantIncome  CoapplicantIncome  ...  Loan_Amount_Term  Credit_History\n",
              "count       614.000000         614.000000  ...         600.00000      564.000000\n",
              "mean       5403.459283        1621.245798  ...         342.00000        0.842199\n",
              "std        6109.041673        2926.248369  ...          65.12041        0.364878\n",
              "min         150.000000           0.000000  ...          12.00000        0.000000\n",
              "25%        2877.500000           0.000000  ...         360.00000        1.000000\n",
              "50%        3812.500000        1188.500000  ...         360.00000        1.000000\n",
              "75%        5795.000000        2297.250000  ...         360.00000        1.000000\n",
              "max       81000.000000       41667.000000  ...         480.00000        1.000000\n",
              "\n",
              "[8 rows x 5 columns]"
            ]
          },
          "metadata": {},
          "execution_count": 48
        }
      ]
    },
    {
      "cell_type": "code",
      "source": [
        "# Le nombre de valeurs manquantes de chaque variable du dataframe\n",
        "df.isna().sum().sort_values(ascending=False)"
      ],
      "metadata": {
        "colab": {
          "base_uri": "https://localhost:8080/"
        },
        "id": "NOiqh8JTwQmu",
        "outputId": "bfd97054-277c-43fa-81b6-249a8b43df14"
      },
      "execution_count": 49,
      "outputs": [
        {
          "output_type": "execute_result",
          "data": {
            "text/plain": [
              "Credit_History       50\n",
              "Self_Employed        32\n",
              "LoanAmount           22\n",
              "Dependents           15\n",
              "Loan_Amount_Term     14\n",
              "Gender               13\n",
              "Married               3\n",
              "Loan_Status           0\n",
              "Property_Area         0\n",
              "CoapplicantIncome     0\n",
              "ApplicantIncome       0\n",
              "Education             0\n",
              "Loan_ID               0\n",
              "dtype: int64"
            ]
          },
          "metadata": {},
          "execution_count": 49
        }
      ]
    },
    {
      "cell_type": "code",
      "source": [
        "# Le nombre total de valeurs manquantes\n",
        "print(\"Le nombre total de variables manquantes est de\", (df.isna().sum()).sum())"
      ],
      "metadata": {
        "colab": {
          "base_uri": "https://localhost:8080/"
        },
        "id": "VO3anuc3wXXa",
        "outputId": "78475458-550c-415d-dfb8-f281dd5354e6"
      },
      "execution_count": 50,
      "outputs": [
        {
          "output_type": "stream",
          "name": "stdout",
          "text": [
            "Le nombre total de variables manquantes est de 149\n"
          ]
        }
      ]
    },
    {
      "cell_type": "code",
      "source": [
        "# Visualiser les valeurs manquantes\n",
        "plt.figure(figsize=(5, 5))\n",
        "df.isna().sum().plot(kind=\"barh\")\n",
        "plt.ylabel(\"Nom de la variable\")\n",
        "plt.xlabel(\"Nombre de valeurs manquantes\")\n",
        "plt.show()"
      ],
      "metadata": {
        "colab": {
          "base_uri": "https://localhost:8080/",
          "height": 334
        },
        "id": "vPn_onEnwaF4",
        "outputId": "83e59298-3724-46b0-e17e-968cd26873a8"
      },
      "execution_count": 51,
      "outputs": [
        {
          "output_type": "display_data",
          "data": {
            "image/png": "[encoded data removed]",
            "text/plain": [
              "<Figure size 360x360 with 1 Axes>"
            ]
          },
          "metadata": {
            "needs_background": "light"
          }
        }
      ]
    },
    {
      "cell_type": "markdown",
      "source": [
        "### **Analyse de fond**"
      ],
      "metadata": {
        "id": "PyyfZx3YxpQo"
      }
    },
    {
      "cell_type": "code",
      "source": [
        "# Analyse de la variable cible 'Loan_Status'\n",
        "# Note : normalize = True -> Pour avoir les résultats en pourcentage \n",
        "df['Loan_Status'].value_counts(normalize=True)*100"
      ],
      "metadata": {
        "colab": {
          "base_uri": "https://localhost:8080/"
        },
        "id": "l1IwYEtNx42W",
        "outputId": "204d0787-5998-49c4-a8d6-e4bc44323aac"
      },
      "execution_count": 52,
      "outputs": [
        {
          "output_type": "execute_result",
          "data": {
            "text/plain": [
              "Y    68.729642\n",
              "N    31.270358\n",
              "Name: Loan_Status, dtype: float64"
            ]
          },
          "metadata": {},
          "execution_count": 52
        }
      ]
    },
    {
      "cell_type": "code",
      "source": [
        "# Visualisation de la variable target 'Loan_Status' avec un diagramme à barres\n",
        "sns.countplot(x = 'Loan_Status', data = df)\n",
        "plt.show()"
      ],
      "metadata": {
        "colab": {
          "base_uri": "https://localhost:8080/",
          "height": 280
        },
        "id": "VpL7BbqNyFE_",
        "outputId": "909645f6-3bae-4ba8-e02c-42099f7a370c"
      },
      "execution_count": 53,
      "outputs": [
        {
          "output_type": "display_data",
          "data": {
            "image/png": "[encoded data removed]",
            "text/plain": [
              "<Figure size 432x288 with 1 Axes>"
            ]
          },
          "metadata": {
            "needs_background": "light"
          }
        }
      ]
    },
    {
      "cell_type": "markdown",
      "source": [
        "**Analyse de la variable cible :** \n",
        "- **68.73%** des demandes de prêt ont été accordées\n",
        "- **31.27%** des demandes de prêt ont été refusées"
      ],
      "metadata": {
        "id": "hSzM3K4HyL3H"
      }
    },
    {
      "cell_type": "code",
      "source": [
        "# Analyse des variables catégorielles nominales\n",
        "\n",
        "# Gender\n",
        "print(\"# Gender\")\n",
        "print(df['Gender'].value_counts(normalize=True)*100)\n",
        "print(\"-\"*35)\n",
        "\n",
        "# Married\n",
        "print(\"# Married\")\n",
        "print(df['Married'].value_counts(normalize=True)*100)\n",
        "print(\"-\"*35)\n",
        "\n",
        "# Education\n",
        "print(\"# Education\")\n",
        "print(df['Education'].value_counts(normalize=True)*100)\n",
        "print(\"-\"*35)\n",
        "\n",
        "# Self_Employed\n",
        "print(\"# Self_Employed\")\n",
        "print(df['Self_Employed'].value_counts(normalize=True)*100)\n",
        "print(\"-\"*35)"
      ],
      "metadata": {
        "colab": {
          "base_uri": "https://localhost:8080/"
        },
        "id": "WylqgODUzFyI",
        "outputId": "3ae20bba-2630-4a24-8b4f-361f8aba445e"
      },
      "execution_count": 54,
      "outputs": [
        {
          "output_type": "stream",
          "name": "stdout",
          "text": [
            "# Gender\n",
            "Male      81.364393\n",
            "Female    18.635607\n",
            "Name: Gender, dtype: float64\n",
            "-----------------------------------\n",
            "# Married\n",
            "Yes    65.139116\n",
            "No     34.860884\n",
            "Name: Married, dtype: float64\n",
            "-----------------------------------\n",
            "# Education\n",
            "Graduate        78.175896\n",
            "Not Graduate    21.824104\n",
            "Name: Education, dtype: float64\n",
            "-----------------------------------\n",
            "# Self_Employed\n",
            "No     85.910653\n",
            "Yes    14.089347\n",
            "Name: Self_Employed, dtype: float64\n",
            "-----------------------------------\n"
          ]
        }
      ]
    },
    {
      "cell_type": "code",
      "source": [
        "# Analyse des variables catégorielle nominales à l'aide des diagrammes à barres\n",
        "\n",
        "plt.figure(figsize=(15, 10))\n",
        "\n",
        "# Gender \n",
        "plt.subplot(2, 2, 1)\n",
        "sns.countplot(x = 'Gender', data = df)\n",
        "\n",
        "# Married\n",
        "plt.subplot(2, 2, 2)\n",
        "sns.countplot(x = 'Married', data = df)\n",
        "\n",
        "# Education\n",
        "plt.subplot(2, 2, 3)\n",
        "sns.countplot(x = 'Education', data = df) \n",
        "\n",
        "# Self_Employed\n",
        "plt.subplot(2, 2, 4)\n",
        "sns.countplot(x = 'Self_Employed', data = df)\n",
        "\n",
        "# On affiche les graphiques\n",
        "plt.show()"
      ],
      "metadata": {
        "colab": {
          "base_uri": "https://localhost:8080/",
          "height": 606
        },
        "id": "IXnXzuuGzNIg",
        "outputId": "9c1400c9-ced0-4047-922c-fa56a544a66c"
      },
      "execution_count": 55,
      "outputs": [
        {
          "output_type": "display_data",
          "data": {
            "image/png": "[encoded data removed]",
            "text/plain": [
              "<Figure size 1080x720 with 4 Axes>"
            ]
          },
          "metadata": {
            "needs_background": "light"
          }
        }
      ]
    },
    {
      "cell_type": "markdown",
      "source": [
        "**Analyse des variables catégorielles nominales :** \n",
        "- La majorité des demandeurs de crédits sont des hommes (plus de 81%).\n",
        "- La plupart des demandeurs de crédits sont mariés (plus de 65%).\n",
        "- Plus de 78% des demandeurs de crédits sont diplomés.\n",
        "- Seulement 14% des demandeurs de crédits travaillent à leurs propres compte."
      ],
      "metadata": {
        "id": "I85MPasjzTPX"
      }
    },
    {
      "cell_type": "code",
      "source": [
        "# Analyse des variables catégorielles ordinales\n",
        "\n",
        "# Dependents\n",
        "print(\"# Dependents\")\n",
        "print(df['Dependents'].value_counts(normalize=True)*100)\n",
        "print(\"-\"*35)\n",
        "\n",
        "# Self_Employed\n",
        "print(\"# Property_Area\")\n",
        "print(df['Property_Area'].value_counts(normalize=True)*100)\n",
        "print(\"-\"*35)"
      ],
      "metadata": {
        "colab": {
          "base_uri": "https://localhost:8080/"
        },
        "id": "hK_zj3ALza1F",
        "outputId": "ed8de109-0318-415d-df55-6885816c14c5"
      },
      "execution_count": 56,
      "outputs": [
        {
          "output_type": "stream",
          "name": "stdout",
          "text": [
            "# Dependents\n",
            "0     57.595993\n",
            "1     17.028381\n",
            "2     16.861436\n",
            "3+     8.514190\n",
            "Name: Dependents, dtype: float64\n",
            "-----------------------------------\n",
            "# Property_Area\n",
            "Semiurban    37.947883\n",
            "Urban        32.899023\n",
            "Rural        29.153094\n",
            "Name: Property_Area, dtype: float64\n",
            "-----------------------------------\n"
          ]
        }
      ]
    },
    {
      "cell_type": "code",
      "source": [
        "# Analyse des variables ordinales catégorielles à l'aide des diagrammes à barres\n",
        "\n",
        "plt.figure(figsize=(20, 5))\n",
        "\n",
        "# Dependents \n",
        "plt.subplot(1, 2, 1)\n",
        "sns.countplot(x = 'Dependents', data = df)\n",
        "\n",
        "# Property_Area\n",
        "plt.subplot(1, 2, 2)\n",
        "sns.countplot(x = 'Property_Area', data = df)\n",
        "\n",
        "# On affiche les graphiques\n",
        "plt.show()"
      ],
      "metadata": {
        "colab": {
          "base_uri": "https://localhost:8080/",
          "height": 335
        },
        "id": "j_d6ASB1ze1W",
        "outputId": "7b4c1d1e-6d86-4786-d0e1-f68cb3014167"
      },
      "execution_count": 57,
      "outputs": [
        {
          "output_type": "display_data",
          "data": {
            "image/png": "[encoded data removed]",
            "text/plain": [
              "<Figure size 1440x360 with 2 Axes>"
            ]
          },
          "metadata": {
            "needs_background": "light"
          }
        }
      ]
    },
    {
      "cell_type": "markdown",
      "source": [
        "**Analyse des variables catégorielles ordinales :** \n",
        "\n",
        "- La majorité des demandeurs de crédits n'ont pas de personnes à charge (plus de 57%).\n",
        "- La zone **semi-urbaine** est la zone qui contient le plus de demandeurs de crédits."
      ],
      "metadata": {
        "id": "h0fIxmgyzk53"
      }
    },
    {
      "cell_type": "code",
      "source": [
        "# Analyse des variables numériques\n",
        "\n",
        "# Analyse des variables numériques avec des histogrammes\n",
        "plt.figure(figsize=(20, 10))\n",
        "\n",
        "# ApplicantIncome\n",
        "plt.subplot(2, 2, 1)\n",
        "sns.histplot(x = 'ApplicantIncome', data = df)\n",
        "\n",
        "# CoapplicantIncome\n",
        "plt.subplot(2, 2, 2)\n",
        "sns.histplot(x = 'CoapplicantIncome', data = df)\n",
        "\n",
        "# LoanAmount\n",
        "plt.subplot(2, 2, 3)\n",
        "sns.histplot(x ='LoanAmount', data = df)\n",
        "\n",
        "# Loan_Amount_Term\n",
        "plt.subplot(2, 2, 4)\n",
        "sns.histplot(x ='Loan_Amount_Term', data = df)\n",
        "\n",
        "# On affiche les graphiques\n",
        "plt.show()"
      ],
      "metadata": {
        "colab": {
          "base_uri": "https://localhost:8080/",
          "height": 609
        },
        "id": "sWIXyo7rzjGK",
        "outputId": "d24972d1-d931-49ed-aff9-5d5abbc19f97"
      },
      "execution_count": 58,
      "outputs": [
        {
          "output_type": "display_data",
          "data": {
            "image/png": "[encoded data removed]",
            "text/plain": [
              "<Figure size 1440x720 with 4 Axes>"
            ]
          },
          "metadata": {
            "needs_background": "light"
          }
        }
      ]
    },
    {
      "cell_type": "code",
      "source": [
        "# Analyse des variables numériques avec des diagramme en boite\n",
        "\n",
        "plt.figure(figsize=(20, 10))\n",
        "\n",
        "# ApplicantIncome\n",
        "plt.subplot(2, 2, 1)\n",
        "sns.boxplot(x = 'ApplicantIncome', data = df)\n",
        "\n",
        "# CoapplicantIncome\n",
        "plt.subplot(2, 2, 2)\n",
        "sns.boxplot(x = 'CoapplicantIncome', data = df)\n",
        "\n",
        "# LoanAmount\n",
        "plt.subplot(2, 2, 3)\n",
        "sns.boxplot(x ='LoanAmount', data = df)\n",
        "\n",
        "# Loan_Amount_Term\n",
        "plt.subplot(2, 2, 4)\n",
        "sns.boxplot(x ='Loan_Amount_Term', data = df)\n",
        "\n",
        "# On affiche les graphiques\n",
        "plt.show()"
      ],
      "metadata": {
        "colab": {
          "base_uri": "https://localhost:8080/",
          "height": 606
        },
        "id": "DDIdTYDdzveU",
        "outputId": "067e5e88-bb9d-44c4-846b-7745b6e05341"
      },
      "execution_count": 59,
      "outputs": [
        {
          "output_type": "display_data",
          "data": {
            "image/png": "[encoded data removed]",
            "text/plain": [
              "<Figure size 1440x720 with 4 Axes>"
            ]
          },
          "metadata": {
            "needs_background": "light"
          }
        }
      ]
    },
    {
      "cell_type": "markdown",
      "source": [
        "**Analyse des variables numériques :**\n",
        "\n",
        "- Le revenue des demandeurs varie géneralement entre 0 et 10000.\n",
        "- Le montant de crédits demandée se situe beaucoup plus entre 0 et 200.\n",
        "- On remarque que les variables **ApplicantIncome**, **CoapplicantIncome** et **LoanAmount** contient des valeurs aberrantes (outliers)."
      ],
      "metadata": {
        "id": "SjQFlIpPz01H"
      }
    },
    {
      "cell_type": "code",
      "source": [
        "# Relations entre les variables indépendantes et la variable cible\n",
        "\n",
        "# Gendre / Loan_Status\n",
        "Gender=pd.crosstab(df['Gender'], df['Loan_Status']) \n",
        "Gender.div(Gender.sum(1).astype(float), axis=0).plot(kind=\"bar\", figsize=(10,5), title=\"La relation entre l'approbation de prêt et le genre du demandeur\") \n",
        "plt.show()\n",
        "\n",
        "# Married / Loan_Status\n",
        "Married=pd.crosstab(df['Married'], df['Loan_Status']) \n",
        "Married.div(Married.sum(1).astype(float), axis=0).plot(kind=\"bar\", figsize=(10,5), title=\"La relation entre l'approbation de prêt et le fait que le demandeur soit marrié(e) ou non\") \n",
        "plt.show()"
      ],
      "metadata": {
        "colab": {
          "base_uri": "https://localhost:8080/",
          "height": 715
        },
        "id": "FbkYzKGiz-hZ",
        "outputId": "bddba3dc-ce3b-4efa-f587-8e06fc01c555"
      },
      "execution_count": 60,
      "outputs": [
        {
          "output_type": "display_data",
          "data": {
            "image/png": "[encoded data removed]",
            "text/plain": [
              "<Figure size 720x360 with 1 Axes>"
            ]
          },
          "metadata": {
            "needs_background": "light"
          }
        },
        {
          "output_type": "display_data",
          "data": {
            "image/png": "[encoded data removed]",
            "text/plain": [
              "<Figure size 720x360 with 1 Axes>"
            ]
          },
          "metadata": {
            "needs_background": "light"
          }
        }
      ]
    },
    {
      "cell_type": "code",
      "source": [
        "# Dependents / Loan_Status\n",
        "Dependents=pd.crosstab(df['Dependents'], df['Loan_Status'])\n",
        "Dependents.div(Dependents.sum(1).astype(float), axis=0).plot(kind=\"bar\", figsize=(10,5), title=\"La relation entre l'approbation de prêt et le nombre de personnes à charge du demandeur\") \n",
        "plt.show()\n",
        "\n",
        "# Education / Loan_Status\n",
        "Education=pd.crosstab(df['Education'], df['Loan_Status'])\n",
        "Education.div(Education.sum(1).astype(float), axis=0).plot(kind=\"bar\", figsize=(10,5), title=\"La relation entre l'approbation de prêt et l'éducation du demandeur\") \n",
        "plt.show()\n",
        "\n",
        "# Self_Employed / Loan_Status\n",
        "Self_Employed=pd.crosstab(df['Self_Employed'], df['Loan_Status'])\n",
        "Self_Employed.div(Self_Employed.sum(1).astype(float), axis=0).plot(kind=\"bar\", figsize=(10,5), title=\"La relation entre l'approbation de prêt et le fait que le demandeur soit un travailleur indépendant ou non\") \n",
        "plt.show()"
      ],
      "metadata": {
        "colab": {
          "base_uri": "https://localhost:8080/",
          "height": 1000
        },
        "id": "u_hG63AT0Iji",
        "outputId": "6e2df929-024f-47c1-9d31-c8e742500224"
      },
      "execution_count": 61,
      "outputs": [
        {
          "output_type": "display_data",
          "data": {
            "image/png": "[encoded data removed]",
            "text/plain": [
              "<Figure size 720x360 with 1 Axes>"
            ]
          },
          "metadata": {
            "needs_background": "light"
          }
        },
        {
          "output_type": "display_data",
          "data": {
            "image/png": "[encoded data removed]",
            "text/plain": [
              "<Figure size 720x360 with 1 Axes>"
            ]
          },
          "metadata": {
            "needs_background": "light"
          }
        },
        {
          "output_type": "display_data",
          "data": {
            "image/png": "[encoded data removed]",
            "text/plain": [
              "<Figure size 720x360 with 1 Axes>"
            ]
          },
          "metadata": {
            "needs_background": "light"
          }
        }
      ]
    },
    {
      "cell_type": "code",
      "source": [
        "# Credit_History / Loan_Status\n",
        "Credit_History=pd.crosstab(df['Credit_History'], df['Loan_Status'])\n",
        "Credit_History.div(Credit_History.sum(1).astype(float), axis=0).plot(kind=\"bar\", stacked=True, figsize=(10,5), title=\"La relation entre l'approbation de prêt et l'historique de crédit du demandeur\") \n",
        "plt.show()\n",
        "\n",
        "# Property_Area / Loan_Status\n",
        "Property_Area=pd.crosstab(df['Property_Area'], df['Loan_Status'])\n",
        "Property_Area.div(Property_Area.sum(1).astype(float), axis=0).plot(kind=\"bar\", stacked=True, figsize=(10,5), title=\"La relation entre l'approbation de prêt et le logement du demandeur\") \n",
        "plt.show()"
      ],
      "metadata": {
        "colab": {
          "base_uri": "https://localhost:8080/",
          "height": 734
        },
        "id": "pihigjLd0SEc",
        "outputId": "3384fa72-0c0c-46ea-e660-dba836374182"
      },
      "execution_count": 62,
      "outputs": [
        {
          "output_type": "display_data",
          "data": {
            "image/png": "[encoded data removed]",
            "text/plain": [
              "<Figure size 720x360 with 1 Axes>"
            ]
          },
          "metadata": {
            "needs_background": "light"
          }
        },
        {
          "output_type": "display_data",
          "data": {
            "image/png": "[encoded data removed]",
            "text/plain": [
              "<Figure size 720x360 with 1 Axes>"
            ]
          },
          "metadata": {
            "needs_background": "light"
          }
        }
      ]
    },
    {
      "cell_type": "markdown",
      "source": [
        "**Relations entre les variables indépendantes et la variable cible :**\n",
        "\n",
        "- Il n'y a pas vraiment de relation entre l'approbation du prêt et le genre du demandeur.\n",
        "- Les personnes mariées sont les candidats les plus acceptés.\n",
        "- Les demandeurs ayant 2 personnes à charges sont les plus acceptées.\n",
        "- Il y'a pas vraiment de relation entre l'approbation de la demande de crédit et le fait qu'un demandeur est un travailleur indépendant ou non.\n",
        "- Les demandes des personnes diplômées sont les plus approuvées.\n",
        "- Les personnes ayant déjà des antécédents de crédits sont plus susceptibles d'obtenir une approbation de leurs demandes de crédit.\n",
        "- Les demandes des personnes vivants en zone rurale sont les plus approuvées."
      ],
      "metadata": {
        "id": "EzGMYuuX0Z0v"
      }
    },
    {
      "cell_type": "markdown",
      "source": [
        "## **Prétraitement des données**"
      ],
      "metadata": {
        "id": "Az-CfaDb0mMi"
      }
    },
    {
      "cell_type": "markdown",
      "source": [
        "Pour cette étape nous allons réaliser les taches suivantes :\n",
        "\n",
        "- Traiter les valeurs manquantes\n",
        "- Encoder les données\n",
        "- Normaliser les données"
      ],
      "metadata": {
        "id": "psurtyiH0o63"
      }
    },
    {
      "cell_type": "code",
      "source": [
        "# Création d'une copie du dataset\n",
        "df1 = df.copy()\n",
        "\n",
        "# Supprimer Loan_ID du dataset\n",
        "df1.drop(['Loan_ID'], axis = 1, inplace = True)"
      ],
      "metadata": {
        "id": "fQpDgfbR0wc-"
      },
      "execution_count": 63,
      "outputs": []
    },
    {
      "cell_type": "markdown",
      "source": [
        "### **Traiter les valeurs manquantes**"
      ],
      "metadata": {
        "id": "Pyn1dtJ70y_A"
      }
    },
    {
      "cell_type": "code",
      "source": [
        "# Voir les valeurs manquantes\n",
        "df1.isna().sum().sort_values(ascending=False)"
      ],
      "metadata": {
        "colab": {
          "base_uri": "https://localhost:8080/"
        },
        "id": "bN8PQBrY02S_",
        "outputId": "e9fdb331-fb6b-422e-df98-ce87102b1eb3"
      },
      "execution_count": 64,
      "outputs": [
        {
          "output_type": "execute_result",
          "data": {
            "text/plain": [
              "Credit_History       50\n",
              "Self_Employed        32\n",
              "LoanAmount           22\n",
              "Dependents           15\n",
              "Loan_Amount_Term     14\n",
              "Gender               13\n",
              "Married               3\n",
              "Loan_Status           0\n",
              "Property_Area         0\n",
              "CoapplicantIncome     0\n",
              "ApplicantIncome       0\n",
              "Education             0\n",
              "dtype: int64"
            ]
          },
          "metadata": {},
          "execution_count": 64
        }
      ]
    },
    {
      "cell_type": "code",
      "source": [
        "# Remplaçer les valeurs manquantes par :\n",
        "\n",
        "# Married ------------> mode\n",
        "# Gender -------------> mode\n",
        "# Dependents ---------> mode\n",
        "# Self_Employed ------> mode\n",
        "# Credit_History -----> mode\n",
        "# LoanAmount ---------> médiane\n",
        "# Loan_Amount_Term ---> médiane\n",
        "\n",
        "def imputation(data):\n",
        "    \"\"\"\n",
        "    Permet de traiter et de remplaçer les valeurs manquantes de chaque variable d'un dataframe\n",
        "    \n",
        "    data: un dataframe\n",
        "    \"\"\"\n",
        "    data[\"Married\"].fillna(data[\"Married\"].mode()[0], inplace=True)\n",
        "    data[\"Gender\"].fillna(data[\"Gender\"].mode()[0], inplace=True)\n",
        "    data[\"Dependents\"].fillna(data[\"Dependents\"].mode()[0], inplace=True)\n",
        "    data[\"Self_Employed\"].fillna(data[\"Self_Employed\"].mode()[0], inplace=True)\n",
        "    data['Credit_History'].fillna(data['Credit_History'].mode()[0], inplace=True)\n",
        "    data['LoanAmount'].fillna(data['LoanAmount'].median(), inplace=True)\n",
        "    data['Loan_Amount_Term'].fillna(data['Loan_Amount_Term'].median(), inplace=True)\n",
        "\n",
        "imputation(df1)"
      ],
      "metadata": {
        "id": "lEkqhQzv06GF"
      },
      "execution_count": 65,
      "outputs": []
    },
    {
      "cell_type": "code",
      "source": [
        "# Nombre de valeurs manquantes après le traitement\n",
        "df1.isna().sum().sort_values(ascending=False)"
      ],
      "metadata": {
        "colab": {
          "base_uri": "https://localhost:8080/"
        },
        "id": "OtRBTYYX09gY",
        "outputId": "424c146e-a72e-4978-c4ec-e021b22bc1d0"
      },
      "execution_count": 66,
      "outputs": [
        {
          "output_type": "execute_result",
          "data": {
            "text/plain": [
              "Loan_Status          0\n",
              "Property_Area        0\n",
              "Credit_History       0\n",
              "Loan_Amount_Term     0\n",
              "LoanAmount           0\n",
              "CoapplicantIncome    0\n",
              "ApplicantIncome      0\n",
              "Self_Employed        0\n",
              "Education            0\n",
              "Dependents           0\n",
              "Married              0\n",
              "Gender               0\n",
              "dtype: int64"
            ]
          },
          "metadata": {},
          "execution_count": 66
        }
      ]
    },
    {
      "cell_type": "markdown",
      "source": [
        "### **Encoder les données**"
      ],
      "metadata": {
        "id": "2Cl01lVW1DcX"
      }
    },
    {
      "cell_type": "code",
      "source": [
        "# Encodage des données avec la fonction get_dummies()\n",
        "\n",
        "def encodage(data):\n",
        "    \"\"\"\n",
        "    Fonction qui permet d'encoder les données d'un dataframe\n",
        "    \n",
        "    data: un dataframe\n",
        "    \"\"\"\n",
        "    \n",
        "    return pd.get_dummies(data, drop_first=True)\n",
        "\n",
        "df1 = encodage(df1)\n",
        "df1.head()"
      ],
      "metadata": {
        "colab": {
          "base_uri": "https://localhost:8080/",
          "height": 288
        },
        "id": "p_63xf_X1Gj_",
        "outputId": "03d59740-0e42-4804-e5ba-5f7681e658a2"
      },
      "execution_count": 67,
      "outputs": [
        {
          "output_type": "execute_result",
          "data": {
            "text/html": [
              "\n",
              "  <div id=\"df-8797f0ac-cb92-4b6b-8d3b-9311026e1265\">\n",
              "    <div class=\"colab-df-container\">\n",
              "      <div>\n",
              "<style scoped>\n",
              "    .dataframe tbody tr th:only-of-type {\n",
              "        vertical-align: middle;\n",
              "    }\n",
              "\n",
              "    .dataframe tbody tr th {\n",
              "        vertical-align: top;\n",
              "    }\n",
              "\n",
              "    .dataframe thead th {\n",
              "        text-align: right;\n",
              "    }\n",
              "</style>\n",
              "<table border=\"1\" class=\"dataframe\">\n",
              "  <thead>\n",
              "    <tr style=\"text-align: right;\">\n",
              "      <th></th>\n",
              "      <th>ApplicantIncome</th>\n",
              "      <th>CoapplicantIncome</th>\n",
              "      <th>LoanAmount</th>\n",
              "      <th>Loan_Amount_Term</th>\n",
              "      <th>Credit_History</th>\n",
              "      <th>Gender_Male</th>\n",
              "      <th>Married_Yes</th>\n",
              "      <th>Dependents_1</th>\n",
              "      <th>Dependents_2</th>\n",
              "      <th>Dependents_3+</th>\n",
              "      <th>Education_Not Graduate</th>\n",
              "      <th>Self_Employed_Yes</th>\n",
              "      <th>Property_Area_Semiurban</th>\n",
              "      <th>Property_Area_Urban</th>\n",
              "      <th>Loan_Status_Y</th>\n",
              "    </tr>\n",
              "  </thead>\n",
              "  <tbody>\n",
              "    <tr>\n",
              "      <th>0</th>\n",
              "      <td>5849</td>\n",
              "      <td>0.0</td>\n",
              "      <td>128.0</td>\n",
              "      <td>360.0</td>\n",
              "      <td>1.0</td>\n",
              "      <td>1</td>\n",
              "      <td>0</td>\n",
              "      <td>0</td>\n",
              "      <td>0</td>\n",
              "      <td>0</td>\n",
              "      <td>0</td>\n",
              "      <td>0</td>\n",
              "      <td>0</td>\n",
              "      <td>1</td>\n",
              "      <td>1</td>\n",
              "    </tr>\n",
              "    <tr>\n",
              "      <th>1</th>\n",
              "      <td>4583</td>\n",
              "      <td>1508.0</td>\n",
              "      <td>128.0</td>\n",
              "      <td>360.0</td>\n",
              "      <td>1.0</td>\n",
              "      <td>1</td>\n",
              "      <td>1</td>\n",
              "      <td>1</td>\n",
              "      <td>0</td>\n",
              "      <td>0</td>\n",
              "      <td>0</td>\n",
              "      <td>0</td>\n",
              "      <td>0</td>\n",
              "      <td>0</td>\n",
              "      <td>0</td>\n",
              "    </tr>\n",
              "    <tr>\n",
              "      <th>2</th>\n",
              "      <td>3000</td>\n",
              "      <td>0.0</td>\n",
              "      <td>66.0</td>\n",
              "      <td>360.0</td>\n",
              "      <td>1.0</td>\n",
              "      <td>1</td>\n",
              "      <td>1</td>\n",
              "      <td>0</td>\n",
              "      <td>0</td>\n",
              "      <td>0</td>\n",
              "      <td>0</td>\n",
              "      <td>1</td>\n",
              "      <td>0</td>\n",
              "      <td>1</td>\n",
              "      <td>1</td>\n",
              "    </tr>\n",
              "    <tr>\n",
              "      <th>3</th>\n",
              "      <td>2583</td>\n",
              "      <td>2358.0</td>\n",
              "      <td>120.0</td>\n",
              "      <td>360.0</td>\n",
              "      <td>1.0</td>\n",
              "      <td>1</td>\n",
              "      <td>1</td>\n",
              "      <td>0</td>\n",
              "      <td>0</td>\n",
              "      <td>0</td>\n",
              "      <td>1</td>\n",
              "      <td>0</td>\n",
              "      <td>0</td>\n",
              "      <td>1</td>\n",
              "      <td>1</td>\n",
              "    </tr>\n",
              "    <tr>\n",
              "      <th>4</th>\n",
              "      <td>6000</td>\n",
              "      <td>0.0</td>\n",
              "      <td>141.0</td>\n",
              "      <td>360.0</td>\n",
              "      <td>1.0</td>\n",
              "      <td>1</td>\n",
              "      <td>0</td>\n",
              "      <td>0</td>\n",
              "      <td>0</td>\n",
              "      <td>0</td>\n",
              "      <td>0</td>\n",
              "      <td>0</td>\n",
              "      <td>0</td>\n",
              "      <td>1</td>\n",
              "      <td>1</td>\n",
              "    </tr>\n",
              "  </tbody>\n",
              "</table>\n",
              "</div>\n",
              "      <button class=\"colab-df-convert\" onclick=\"convertToInteractive('df-8797f0ac-cb92-4b6b-8d3b-9311026e1265')\"\n",
              "              title=\"Convert this dataframe to an interactive table.\"\n",
              "              style=\"display:none;\">\n",
              "        \n",
              "  <svg xmlns=\"http://www.w3.org/2000/svg\" height=\"24px\"viewBox=\"0 0 24 24\"\n",
              "       width=\"24px\">\n",
              "    <path d=\"M0 0h24v24H0V0z\" fill=\"none\"/>\n",
              "    <path d=\"M18.56 5.44l.94 2.06.94-2.06 2.06-.94-2.06-.94-.94-2.06-.94 2.06-2.06.94zm-11 1L8.5 8.5l.94-2.06 2.06-.94-2.06-.94L8.5 2.5l-.94 2.06-2.06.94zm10 10l.94 2.06.94-2.06 2.06-.94-2.06-.94-.94-2.06-.94 2.06-2.06.94z\"/><path d=\"M17.41 7.96l-1.37-1.37c-.4-.4-.92-.59-1.43-.59-.52 0-1.04.2-1.43.59L10.3 9.45l-7.72 7.72c-.78.78-.78 2.05 0 2.83L4 21.41c.39.39.9.59 1.41.59.51 0 1.02-.2 1.41-.59l7.78-7.78 2.81-2.81c.8-.78.8-2.07 0-2.86zM5.41 20L4 18.59l7.72-7.72 1.47 1.35L5.41 20z\"/>\n",
              "  </svg>\n",
              "      </button>\n",
              "      \n",
              "  <style>\n",
              "    .colab-df-container {\n",
              "      display:flex;\n",
              "      flex-wrap:wrap;\n",
              "      gap: 12px;\n",
              "    }\n",
              "\n",
              "    .colab-df-convert {\n",
              "      background-color: #E8F0FE;\n",
              "      border: none;\n",
              "      border-radius: 50%;\n",
              "      cursor: pointer;\n",
              "      display: none;\n",
              "      fill: #1967D2;\n",
              "      height: 32px;\n",
              "      padding: 0 0 0 0;\n",
              "      width: 32px;\n",
              "    }\n",
              "\n",
              "    .colab-df-convert:hover {\n",
              "      background-color: #E2EBFA;\n",
              "      box-shadow: 0px 1px 2px rgba(60, 64, 67, 0.3), 0px 1px 3px 1px rgba(60, 64, 67, 0.15);\n",
              "      fill: #174EA6;\n",
              "    }\n",
              "\n",
              "    [theme=dark] .colab-df-convert {\n",
              "      background-color: #3B4455;\n",
              "      fill: #D2E3FC;\n",
              "    }\n",
              "\n",
              "    [theme=dark] .colab-df-convert:hover {\n",
              "      background-color: #434B5C;\n",
              "      box-shadow: 0px 1px 3px 1px rgba(0, 0, 0, 0.15);\n",
              "      filter: drop-shadow(0px 1px 2px rgba(0, 0, 0, 0.3));\n",
              "      fill: #FFFFFF;\n",
              "    }\n",
              "  </style>\n",
              "\n",
              "      <script>\n",
              "        const buttonEl =\n",
              "          document.querySelector('#df-8797f0ac-cb92-4b6b-8d3b-9311026e1265 button.colab-df-convert');\n",
              "        buttonEl.style.display =\n",
              "          google.colab.kernel.accessAllowed ? 'block' : 'none';\n",
              "\n",
              "        async function convertToInteractive(key) {\n",
              "          const element = document.querySelector('#df-8797f0ac-cb92-4b6b-8d3b-9311026e1265');\n",
              "          const dataTable =\n",
              "            await google.colab.kernel.invokeFunction('convertToInteractive',\n",
              "                                                     [key], {});\n",
              "          if (!dataTable) return;\n",
              "\n",
              "          const docLinkHtml = 'Like what you see? Visit the ' +\n",
              "            '<a target=\"_blank\" href=https://colab.research.google.com/notebooks/data_table.ipynb>data table notebook</a>'\n",
              "            + ' to learn more about interactive tables.';\n",
              "          element.innerHTML = '';\n",
              "          dataTable['output_type'] = 'display_data';\n",
              "          await google.colab.output.renderOutput(dataTable, element);\n",
              "          const docLink = document.createElement('div');\n",
              "          docLink.innerHTML = docLinkHtml;\n",
              "          element.appendChild(docLink);\n",
              "        }\n",
              "      </script>\n",
              "    </div>\n",
              "  </div>\n",
              "  "
            ],
            "text/plain": [
              "   ApplicantIncome  CoapplicantIncome  ...  Property_Area_Urban  Loan_Status_Y\n",
              "0             5849                0.0  ...                    1              1\n",
              "1             4583             1508.0  ...                    0              0\n",
              "2             3000                0.0  ...                    1              1\n",
              "3             2583             2358.0  ...                    1              1\n",
              "4             6000                0.0  ...                    1              1\n",
              "\n",
              "[5 rows x 15 columns]"
            ]
          },
          "metadata": {},
          "execution_count": 67
        }
      ]
    },
    {
      "cell_type": "markdown",
      "source": [
        "### **Normaliser les données**"
      ],
      "metadata": {
        "id": "dppcDdy61KS3"
      }
    },
    {
      "cell_type": "code",
      "source": [
        "# D'abord, on sépare la variable target des features \n",
        "y = df1['Loan_Status_Y']\n",
        "X = df1.drop('Loan_Status_Y', axis = 1)"
      ],
      "metadata": {
        "id": "FMItg0Fz1MJZ"
      },
      "execution_count": 68,
      "outputs": []
    },
    {
      "cell_type": "code",
      "source": [
        "from sklearn.preprocessing import StandardScaler\n",
        "\n",
        "#  Normalisation des données\n",
        "X = StandardScaler().fit(X).transform(X)"
      ],
      "metadata": {
        "id": "ssFesBhS1Nh1"
      },
      "execution_count": 69,
      "outputs": []
    },
    {
      "cell_type": "markdown",
      "source": [
        "## **Modélisation**"
      ],
      "metadata": {
        "id": "gkfbgHml1g4i"
      }
    },
    {
      "cell_type": "code",
      "source": [
        "# Importation des packages pour la modélisation\n",
        "from sklearn.model_selection import train_test_split, learning_curve, GridSearchCV\n",
        "from sklearn.metrics import accuracy_score, f1_score, confusion_matrix, classification_report, precision_score, recall_score"
      ],
      "metadata": {
        "id": "4iPba2nX1jf7"
      },
      "execution_count": 70,
      "outputs": []
    },
    {
      "cell_type": "markdown",
      "source": [
        "### **Partitionnement des données**"
      ],
      "metadata": {
        "id": "oWViJ0EC1nfJ"
      }
    },
    {
      "cell_type": "markdown",
      "source": [
        "- **80%** : Données d'entrainement\n",
        "\n",
        "- **20%** : Données de test"
      ],
      "metadata": {
        "id": "AmtF__DX1qqd"
      }
    },
    {
      "cell_type": "code",
      "source": [
        "# Découper les données en données d'entrainement et de test avec la fonction train_test_split\n",
        "X_train, X_test, y_train, y_test = train_test_split(X, y, test_size = 0.2, stratify = y, random_state = 42)"
      ],
      "metadata": {
        "id": "a9_N55D91tC0"
      },
      "execution_count": 71,
      "outputs": []
    },
    {
      "cell_type": "code",
      "source": [
        "print(\"X_train : \", X_train.shape)\n",
        "print(\"y_train : \", y_train.shape)\n",
        "print('-'*35)\n",
        "print(\"X_test  : \", X_test.shape)\n",
        "print(\"y_test  : \", y_test.shape)"
      ],
      "metadata": {
        "colab": {
          "base_uri": "https://localhost:8080/"
        },
        "id": "sZX4I9JF1wS2",
        "outputId": "f1102815-95c5-4318-bebf-2c1c639c53bf"
      },
      "execution_count": 72,
      "outputs": [
        {
          "output_type": "stream",
          "name": "stdout",
          "text": [
            "X_train :  (491, 14)\n",
            "y_train :  (491,)\n",
            "-----------------------------------\n",
            "X_test  :  (123, 14)\n",
            "y_test  :  (123,)\n"
          ]
        }
      ]
    },
    {
      "cell_type": "markdown",
      "source": [
        "### **Procédure d'évaluation**"
      ],
      "metadata": {
        "id": "AwP8r6AV10fC"
      }
    },
    {
      "cell_type": "code",
      "source": [
        "# Scores va contenir les différents scores obtenus par les nos modèles\n",
        "scores = {}"
      ],
      "metadata": {
        "id": "0SUz4_Cv13z5"
      },
      "execution_count": 73,
      "outputs": []
    },
    {
      "cell_type": "code",
      "source": [
        "def evaluation(model, name_in_scores):\n",
        "    \"\"\"\n",
        "    Fonction qui permet d'évaluer un modèle\n",
        "    \n",
        "    model: un modèle d'apprentissage automatique\n",
        "    name_in_scores: le nom du modèle dans le dictionnaire scores\n",
        "    \"\"\"\n",
        "    print('')\n",
        "    print('')\n",
        "    print(model)\n",
        "    print('')\n",
        "    print('')\n",
        "    print('-'*60)\n",
        "    print('')\n",
        "    \n",
        "    # Voir si notre modèle est en overfitting ou en underfitting\n",
        "    print(\"Learning Curves\")\n",
        "    print('')\n",
        "    N, train_score, val_score = learning_curve(model, \n",
        "                                               X_train, \n",
        "                                               y_train, \n",
        "                                               scoring = 'accuracy',\n",
        "                                               train_sizes= np.linspace(0.1, 1.0, 5),\n",
        "                                               cv = 5\n",
        "                                               )\n",
        "\n",
        "    plt.plot(N, train_score.mean(axis=1), label='train score')\n",
        "    plt.plot(N, val_score.mean(axis=1), label='validation score')\n",
        "    plt.legend()\n",
        "    plt.show()\n",
        "    print('-'*60)\n",
        "    print('')\n",
        "    \n",
        "    y_pred_train = model.predict(X_train)\n",
        "    y_pred_test = model.predict(X_test)\n",
        "    \n",
        "    # La matrice de confusion\n",
        "    print(\"La matrice de confusion\")\n",
        "    print('')\n",
        "    \n",
        "    # Calcul de la matrice de confusion\n",
        "    cf_matrix = confusion_matrix(y_test, y_pred_test)\n",
        "    \n",
        "    # Visualiser la matrice\n",
        "    sns.heatmap(cf_matrix, \n",
        "                annot=True,\n",
        "                xticklabels = ['False','True'],\n",
        "                yticklabels = ['False','True'])\n",
        "    plt.xlabel(\"Classes Prédites\")\n",
        "    plt.ylabel(\"Classes Réelles\")\n",
        "    plt.show()\n",
        "    \n",
        "    print('-'*60)\n",
        "    print('')\n",
        "    \n",
        "    # Le rapport de classification\n",
        "    print(\"Le rapport de classification\")\n",
        "    print('')\n",
        "    print(classification_report(y_test, y_pred_test))\n",
        "    print('-'*60)\n",
        "    print('')\n",
        "    \n",
        "\n",
        "    \n",
        "    print(\"Train set accuracy score: \", accuracy_score(y_train, y_pred_train))\n",
        "    print(\"Train set f1 score: \", f1_score(y_train, y_pred_train))\n",
        "    print(\"Test set accuracy score: \", accuracy_score(y_test, y_pred_test))\n",
        "    print(\"Test set f1 score: \", f1_score(y_test, y_pred_test))\n",
        "    print('')\n",
        "    print('')\n",
        "    print('-'*60)\n",
        "    print('')\n",
        "    print('')\n",
        "\n",
        "    scores[name_in_scores] = [\n",
        "        np.around(accuracy_score(y_test, y_pred_test), 4) * 100,\n",
        "        np.around(precision_score(y_test, y_pred_test), 4) * 100,\n",
        "        np.around(recall_score(y_test, y_pred_test), 4) * 100,\n",
        "        np.around(f1_score(y_test, y_pred_test), 4) * 100\n",
        "    ]"
      ],
      "metadata": {
        "id": "kNDAL1AG15rG"
      },
      "execution_count": 74,
      "outputs": []
    },
    {
      "cell_type": "markdown",
      "source": [
        "## **Implémentation des modèles**"
      ],
      "metadata": {
        "id": "jfo3ROU61809"
      }
    },
    {
      "cell_type": "markdown",
      "source": [
        "### **K-Nearest Neighbors**"
      ],
      "metadata": {
        "id": "L4pY9jHb2Ajx"
      }
    },
    {
      "cell_type": "code",
      "source": [
        "from sklearn.neighbors import KNeighborsClassifier\n",
        "\n",
        "knn = KNeighborsClassifier()\n",
        "\n",
        "knn_hyp = {\n",
        "    'n_neighbors': np.arange(1, 10),\n",
        "    'metric': ['euclidean', 'manhattan', 'minkowski'],\n",
        "}\n",
        "\n",
        "knn_grid = GridSearchCV(knn, knn_hyp, scoring = \"accuracy\", cv = 5)\n",
        "\n",
        "knn_grid.fit(X_train, y_train)\n",
        "\n",
        "knn_model = knn_grid.best_estimator_\n",
        "\n",
        "evaluation(knn_model, \"K-Nearest Neighbors\")"
      ],
      "metadata": {
        "colab": {
          "base_uri": "https://localhost:8080/",
          "height": 1000
        },
        "id": "obL8T0kU2Bet",
        "outputId": "320e4a71-49a7-4a6e-8d2d-ea682db244a1"
      },
      "execution_count": 75,
      "outputs": [
        {
          "output_type": "stream",
          "name": "stdout",
          "text": [
            "\n",
            "\n",
            "KNeighborsClassifier(metric='euclidean', n_neighbors=9)\n",
            "\n",
            "\n",
            "------------------------------------------------------------\n",
            "\n",
            "Learning Curves\n",
            "\n"
          ]
        },
        {
          "output_type": "display_data",
          "data": {
            "image/png": "[encoded data removed]",
            "text/plain": [
              "<Figure size 432x288 with 1 Axes>"
            ]
          },
          "metadata": {
            "needs_background": "light"
          }
        },
        {
          "output_type": "stream",
          "name": "stdout",
          "text": [
            "------------------------------------------------------------\n",
            "\n",
            "La matrice de confusion\n",
            "\n"
          ]
        },
        {
          "output_type": "display_data",
          "data": {
            "image/png": "[encoded data removed]",
            "text/plain": [
              "<Figure size 432x288 with 2 Axes>"
            ]
          },
          "metadata": {
            "needs_background": "light"
          }
        },
        {
          "output_type": "stream",
          "name": "stdout",
          "text": [
            "------------------------------------------------------------\n",
            "\n",
            "Le rapport de classification\n",
            "\n",
            "              precision    recall  f1-score   support\n",
            "\n",
            "           0       0.90      0.47      0.62        38\n",
            "           1       0.81      0.98      0.88        85\n",
            "\n",
            "    accuracy                           0.82       123\n",
            "   macro avg       0.85      0.73      0.75       123\n",
            "weighted avg       0.83      0.82      0.80       123\n",
            "\n",
            "------------------------------------------------------------\n",
            "\n",
            "Train set accuracy score:  0.7881873727087576\n",
            "Train set f1 score:  0.8635170603674541\n",
            "Test set accuracy score:  0.8211382113821138\n",
            "Test set f1 score:  0.8829787234042553\n",
            "\n",
            "\n",
            "------------------------------------------------------------\n",
            "\n",
            "\n"
          ]
        }
      ]
    },
    {
      "cell_type": "markdown",
      "source": [
        "### **Random Forest**"
      ],
      "metadata": {
        "id": "m5gB6EN52HkJ"
      }
    },
    {
      "cell_type": "code",
      "source": [
        "from sklearn.ensemble import RandomForestClassifier\n",
        "\n",
        "rf = RandomForestClassifier(random_state = 42)\n",
        "\n",
        "rf_hyp = {\n",
        "    'n_estimators':[5, 10, 20, 50, 100, 200],\n",
        "    'max_depth':[None, 2, 5, 10, 15, 20]\n",
        "}\n",
        "\n",
        "rf_grid = GridSearchCV(rf, rf_hyp, scoring = \"accuracy\", cv = 5)\n",
        "\n",
        "rf_grid.fit(X_train, y_train)\n",
        "\n",
        "rf_model = rf_grid.best_estimator_\n",
        "\n",
        "evaluation(rf_model, \"Random Forest\")"
      ],
      "metadata": {
        "colab": {
          "base_uri": "https://localhost:8080/",
          "height": 1000
        },
        "id": "aYYOozUw2Mn7",
        "outputId": "0e8e3b4a-8de9-40be-e00e-1377b2c45f26"
      },
      "execution_count": 76,
      "outputs": [
        {
          "output_type": "stream",
          "name": "stdout",
          "text": [
            "\n",
            "\n",
            "RandomForestClassifier(max_depth=5, n_estimators=50, random_state=42)\n",
            "\n",
            "\n",
            "------------------------------------------------------------\n",
            "\n",
            "Learning Curves\n",
            "\n"
          ]
        },
        {
          "output_type": "display_data",
          "data": {
            "image/png": "[encoded data removed]",
            "text/plain": [
              "<Figure size 432x288 with 1 Axes>"
            ]
          },
          "metadata": {
            "needs_background": "light"
          }
        },
        {
          "output_type": "stream",
          "name": "stdout",
          "text": [
            "------------------------------------------------------------\n",
            "\n",
            "La matrice de confusion\n",
            "\n"
          ]
        },
        {
          "output_type": "display_data",
          "data": {
            "image/png": "[encoded data removed]",
            "text/plain": [
              "<Figure size 432x288 with 2 Axes>"
            ]
          },
          "metadata": {
            "needs_background": "light"
          }
        },
        {
          "output_type": "stream",
          "name": "stdout",
          "text": [
            "------------------------------------------------------------\n",
            "\n",
            "Le rapport de classification\n",
            "\n",
            "              precision    recall  f1-score   support\n",
            "\n",
            "           0       0.95      0.55      0.70        38\n",
            "           1       0.83      0.99      0.90        85\n",
            "\n",
            "    accuracy                           0.85       123\n",
            "   macro avg       0.89      0.77      0.80       123\n",
            "weighted avg       0.87      0.85      0.84       123\n",
            "\n",
            "------------------------------------------------------------\n",
            "\n",
            "Train set accuracy score:  0.814663951120163\n",
            "Train set f1 score:  0.8804204993429698\n",
            "Test set accuracy score:  0.8536585365853658\n",
            "Test set f1 score:  0.903225806451613\n",
            "\n",
            "\n",
            "------------------------------------------------------------\n",
            "\n",
            "\n"
          ]
        }
      ]
    },
    {
      "cell_type": "markdown",
      "source": [
        "### **Logistic Regression**"
      ],
      "metadata": {
        "id": "Z-HBxjdY2T5I"
      }
    },
    {
      "cell_type": "code",
      "source": [
        "from sklearn.linear_model import LogisticRegression \n",
        "\n",
        "lr = LogisticRegression(random_state = 42)\n",
        "\n",
        "lr_hyp = {\n",
        "    'C':[0.001, 0.01, 0.1, 1, 10]\n",
        "}\n",
        "\n",
        "lr_grid = GridSearchCV(lr, lr_hyp, scoring = \"accuracy\", cv = 5)\n",
        "\n",
        "lr_grid.fit(X_train, y_train)\n",
        "\n",
        "lr_model = lr_grid.best_estimator_\n",
        "\n",
        "evaluation(lr_model, \"Logistic Regression\")"
      ],
      "metadata": {
        "colab": {
          "base_uri": "https://localhost:8080/",
          "height": 1000
        },
        "id": "5FeAXX1p2WU0",
        "outputId": "3bfc4769-9517-4435-fc29-7f22bb1759a6"
      },
      "execution_count": 77,
      "outputs": [
        {
          "output_type": "stream",
          "name": "stdout",
          "text": [
            "\n",
            "\n",
            "LogisticRegression(C=0.1, random_state=42)\n",
            "\n",
            "\n",
            "------------------------------------------------------------\n",
            "\n",
            "Learning Curves\n",
            "\n"
          ]
        },
        {
          "output_type": "display_data",
          "data": {
            "image/png": "[encoded data removed]",
            "text/plain": [
              "<Figure size 432x288 with 1 Axes>"
            ]
          },
          "metadata": {
            "needs_background": "light"
          }
        },
        {
          "output_type": "stream",
          "name": "stdout",
          "text": [
            "------------------------------------------------------------\n",
            "\n",
            "La matrice de confusion\n",
            "\n"
          ]
        },
        {
          "output_type": "display_data",
          "data": {
            "image/png": "[encoded data removed]",
            "text/plain": [
              "<Figure size 432x288 with 2 Axes>"
            ]
          },
          "metadata": {
            "needs_background": "light"
          }
        },
        {
          "output_type": "stream",
          "name": "stdout",
          "text": [
            "------------------------------------------------------------\n",
            "\n",
            "Le rapport de classification\n",
            "\n",
            "              precision    recall  f1-score   support\n",
            "\n",
            "           0       0.96      0.58      0.72        38\n",
            "           1       0.84      0.99      0.91        85\n",
            "\n",
            "    accuracy                           0.86       123\n",
            "   macro avg       0.90      0.78      0.81       123\n",
            "weighted avg       0.88      0.86      0.85       123\n",
            "\n",
            "------------------------------------------------------------\n",
            "\n",
            "Train set accuracy score:  0.8004073319755601\n",
            "Train set f1 score:  0.8710526315789474\n",
            "Test set accuracy score:  0.8617886178861789\n",
            "Test set f1 score:  0.9081081081081082\n",
            "\n",
            "\n",
            "------------------------------------------------------------\n",
            "\n",
            "\n"
          ]
        }
      ]
    },
    {
      "cell_type": "markdown",
      "source": [
        "## **Résultats**"
      ],
      "metadata": {
        "id": "I_hI_mDi2ae6"
      }
    },
    {
      "cell_type": "code",
      "source": [
        "df_scores = pd.DataFrame(scores.values(), index=scores.keys(), columns=['Accuracy', 'Precision', 'Recall', 'F1-Score'])\n",
        "df_scores"
      ],
      "metadata": {
        "colab": {
          "base_uri": "https://localhost:8080/",
          "height": 143
        },
        "id": "leo9NfLG2cqx",
        "outputId": "e15f29ee-7ecb-45dc-ac2a-693b72932e73"
      },
      "execution_count": 78,
      "outputs": [
        {
          "output_type": "execute_result",
          "data": {
            "text/html": [
              "\n",
              "  <div id=\"df-dda6102f-23de-4eeb-ae76-ce4656e7c460\">\n",
              "    <div class=\"colab-df-container\">\n",
              "      <div>\n",
              "<style scoped>\n",
              "    .dataframe tbody tr th:only-of-type {\n",
              "        vertical-align: middle;\n",
              "    }\n",
              "\n",
              "    .dataframe tbody tr th {\n",
              "        vertical-align: top;\n",
              "    }\n",
              "\n",
              "    .dataframe thead th {\n",
              "        text-align: right;\n",
              "    }\n",
              "</style>\n",
              "<table border=\"1\" class=\"dataframe\">\n",
              "  <thead>\n",
              "    <tr style=\"text-align: right;\">\n",
              "      <th></th>\n",
              "      <th>Accuracy</th>\n",
              "      <th>Precision</th>\n",
              "      <th>Recall</th>\n",
              "      <th>F1-Score</th>\n",
              "    </tr>\n",
              "  </thead>\n",
              "  <tbody>\n",
              "    <tr>\n",
              "      <th>K-Nearest Neighbors</th>\n",
              "      <td>82.11</td>\n",
              "      <td>80.58</td>\n",
              "      <td>97.65</td>\n",
              "      <td>88.30</td>\n",
              "    </tr>\n",
              "    <tr>\n",
              "      <th>Random Forest</th>\n",
              "      <td>85.37</td>\n",
              "      <td>83.17</td>\n",
              "      <td>98.82</td>\n",
              "      <td>90.32</td>\n",
              "    </tr>\n",
              "    <tr>\n",
              "      <th>Logistic Regression</th>\n",
              "      <td>86.18</td>\n",
              "      <td>84.00</td>\n",
              "      <td>98.82</td>\n",
              "      <td>90.81</td>\n",
              "    </tr>\n",
              "  </tbody>\n",
              "</table>\n",
              "</div>\n",
              "      <button class=\"colab-df-convert\" onclick=\"convertToInteractive('df-dda6102f-23de-4eeb-ae76-ce4656e7c460')\"\n",
              "              title=\"Convert this dataframe to an interactive table.\"\n",
              "              style=\"display:none;\">\n",
              "        \n",
              "  <svg xmlns=\"http://www.w3.org/2000/svg\" height=\"24px\"viewBox=\"0 0 24 24\"\n",
              "       width=\"24px\">\n",
              "    <path d=\"M0 0h24v24H0V0z\" fill=\"none\"/>\n",
              "    <path d=\"M18.56 5.44l.94 2.06.94-2.06 2.06-.94-2.06-.94-.94-2.06-.94 2.06-2.06.94zm-11 1L8.5 8.5l.94-2.06 2.06-.94-2.06-.94L8.5 2.5l-.94 2.06-2.06.94zm10 10l.94 2.06.94-2.06 2.06-.94-2.06-.94-.94-2.06-.94 2.06-2.06.94z\"/><path d=\"M17.41 7.96l-1.37-1.37c-.4-.4-.92-.59-1.43-.59-.52 0-1.04.2-1.43.59L10.3 9.45l-7.72 7.72c-.78.78-.78 2.05 0 2.83L4 21.41c.39.39.9.59 1.41.59.51 0 1.02-.2 1.41-.59l7.78-7.78 2.81-2.81c.8-.78.8-2.07 0-2.86zM5.41 20L4 18.59l7.72-7.72 1.47 1.35L5.41 20z\"/>\n",
              "  </svg>\n",
              "      </button>\n",
              "      \n",
              "  <style>\n",
              "    .colab-df-container {\n",
              "      display:flex;\n",
              "      flex-wrap:wrap;\n",
              "      gap: 12px;\n",
              "    }\n",
              "\n",
              "    .colab-df-convert {\n",
              "      background-color: #E8F0FE;\n",
              "      border: none;\n",
              "      border-radius: 50%;\n",
              "      cursor: pointer;\n",
              "      display: none;\n",
              "      fill: #1967D2;\n",
              "      height: 32px;\n",
              "      padding: 0 0 0 0;\n",
              "      width: 32px;\n",
              "    }\n",
              "\n",
              "    .colab-df-convert:hover {\n",
              "      background-color: #E2EBFA;\n",
              "      box-shadow: 0px 1px 2px rgba(60, 64, 67, 0.3), 0px 1px 3px 1px rgba(60, 64, 67, 0.15);\n",
              "      fill: #174EA6;\n",
              "    }\n",
              "\n",
              "    [theme=dark] .colab-df-convert {\n",
              "      background-color: #3B4455;\n",
              "      fill: #D2E3FC;\n",
              "    }\n",
              "\n",
              "    [theme=dark] .colab-df-convert:hover {\n",
              "      background-color: #434B5C;\n",
              "      box-shadow: 0px 1px 3px 1px rgba(0, 0, 0, 0.15);\n",
              "      filter: drop-shadow(0px 1px 2px rgba(0, 0, 0, 0.3));\n",
              "      fill: #FFFFFF;\n",
              "    }\n",
              "  </style>\n",
              "\n",
              "      <script>\n",
              "        const buttonEl =\n",
              "          document.querySelector('#df-dda6102f-23de-4eeb-ae76-ce4656e7c460 button.colab-df-convert');\n",
              "        buttonEl.style.display =\n",
              "          google.colab.kernel.accessAllowed ? 'block' : 'none';\n",
              "\n",
              "        async function convertToInteractive(key) {\n",
              "          const element = document.querySelector('#df-dda6102f-23de-4eeb-ae76-ce4656e7c460');\n",
              "          const dataTable =\n",
              "            await google.colab.kernel.invokeFunction('convertToInteractive',\n",
              "                                                     [key], {});\n",
              "          if (!dataTable) return;\n",
              "\n",
              "          const docLinkHtml = 'Like what you see? Visit the ' +\n",
              "            '<a target=\"_blank\" href=https://colab.research.google.com/notebooks/data_table.ipynb>data table notebook</a>'\n",
              "            + ' to learn more about interactive tables.';\n",
              "          element.innerHTML = '';\n",
              "          dataTable['output_type'] = 'display_data';\n",
              "          await google.colab.output.renderOutput(dataTable, element);\n",
              "          const docLink = document.createElement('div');\n",
              "          docLink.innerHTML = docLinkHtml;\n",
              "          element.appendChild(docLink);\n",
              "        }\n",
              "      </script>\n",
              "    </div>\n",
              "  </div>\n",
              "  "
            ],
            "text/plain": [
              "                     Accuracy  Precision  Recall  F1-Score\n",
              "K-Nearest Neighbors     82.11      80.58   97.65     88.30\n",
              "Random Forest           85.37      83.17   98.82     90.32\n",
              "Logistic Regression     86.18      84.00   98.82     90.81"
            ]
          },
          "metadata": {},
          "execution_count": 78
        }
      ]
    },
    {
      "cell_type": "markdown",
      "source": [
        "## **Conclusion**"
      ],
      "metadata": {
        "id": "a6UEQong2fTO"
      }
    },
    {
      "cell_type": "markdown",
      "source": [
        "La comparaison des résultats nous amène à dire que le modèle 3 utilisant la régression logistique donne de meilleures estimations comparant aux deux autres modèles. En somme, on déduit que ce modèle peut fournir une approche rapide et fiable dans la prise de décision qui peut être une alternative aux procédures actuelles adoptées par les banques pour traiter l'approbation de prêt d'un demandeur."
      ],
      "metadata": {
        "id": "TAes0n7u2nBC"
      }
    }
  ]
}