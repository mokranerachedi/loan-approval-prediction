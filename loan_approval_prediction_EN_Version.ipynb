{
  "nbformat": 4,
  "nbformat_minor": 0,
  "metadata": {
    "colab": {
      "name": "loan_approval_prediction_EN_Version.ipynb",
      "provenance": [],
      "collapsed_sections": [],
      "authorship_tag": "ABX9TyPTX/xdkASjOprydsPsOu/N",
      "include_colab_link": true
    },
    "kernelspec": {
      "name": "python3",
      "display_name": "Python 3"
    },
    "language_info": {
      "name": "python"
    }
  },
  "cells": [
    {
      "cell_type": "markdown",
      "metadata": {
        "id": "view-in-github",
        "colab_type": "text"
      },
      "source": [
        "<a href=\"https://colab.research.google.com/github/mokranerachedi/loan-approval-prediction/blob/main/loan_approval_prediction_EN_Version.ipynb\" target=\"_parent\"><img src=\"https://colab.research.google.com/assets/colab-badge.svg\" alt=\"Open In Colab\"/></a>"
      ]
    },
    {
      "cell_type": "markdown",
      "source": [
        "# **Loan Approval Prediction**\n",
        "\n",
        "Prediction of Loan Approval using Machine Learning."
      ],
      "metadata": {
        "id": "4ImgTiJkcfsg"
      }
    },
    {
      "cell_type": "markdown",
      "source": [
        "## **Import packages**"
      ],
      "metadata": {
        "id": "PvCUhrnKcj7h"
      }
    },
    {
      "cell_type": "code",
      "source": [
        "import pandas as pd\n",
        "import numpy as np\n",
        "import matplotlib.pyplot as plt\n",
        "import seaborn as sns\n",
        "import warnings\n",
        "warnings.filterwarnings('ignore')"
      ],
      "metadata": {
        "id": "THmZy43Wcmdj"
      },
      "execution_count": 186,
      "outputs": []
    },
    {
      "cell_type": "markdown",
      "source": [
        "## **Load the data**"
      ],
      "metadata": {
        "id": "NLz7RB2Acp96"
      }
    },
    {
      "cell_type": "code",
      "source": [
        "df = pd.read_csv('/content/train_ctrUa4K.csv')\n",
        "df.head()"
      ],
      "metadata": {
        "colab": {
          "base_uri": "https://localhost:8080/",
          "height": 288
        },
        "id": "aIDUd60kctEA",
        "outputId": "1ccf3d2d-5db4-41e4-ff09-d0c6f33ee8e3"
      },
      "execution_count": 187,
      "outputs": [
        {
          "output_type": "execute_result",
          "data": {
            "text/html": [
              "\n",
              "  <div id=\"df-75b48aab-1549-45bc-ba4f-5ba2e3a38923\">\n",
              "    <div class=\"colab-df-container\">\n",
              "      <div>\n",
              "<style scoped>\n",
              "    .dataframe tbody tr th:only-of-type {\n",
              "        vertical-align: middle;\n",
              "    }\n",
              "\n",
              "    .dataframe tbody tr th {\n",
              "        vertical-align: top;\n",
              "    }\n",
              "\n",
              "    .dataframe thead th {\n",
              "        text-align: right;\n",
              "    }\n",
              "</style>\n",
              "<table border=\"1\" class=\"dataframe\">\n",
              "  <thead>\n",
              "    <tr style=\"text-align: right;\">\n",
              "      <th></th>\n",
              "      <th>Loan_ID</th>\n",
              "      <th>Gender</th>\n",
              "      <th>Married</th>\n",
              "      <th>Dependents</th>\n",
              "      <th>Education</th>\n",
              "      <th>Self_Employed</th>\n",
              "      <th>ApplicantIncome</th>\n",
              "      <th>CoapplicantIncome</th>\n",
              "      <th>LoanAmount</th>\n",
              "      <th>Loan_Amount_Term</th>\n",
              "      <th>Credit_History</th>\n",
              "      <th>Property_Area</th>\n",
              "      <th>Loan_Status</th>\n",
              "    </tr>\n",
              "  </thead>\n",
              "  <tbody>\n",
              "    <tr>\n",
              "      <th>0</th>\n",
              "      <td>LP001002</td>\n",
              "      <td>Male</td>\n",
              "      <td>No</td>\n",
              "      <td>0</td>\n",
              "      <td>Graduate</td>\n",
              "      <td>No</td>\n",
              "      <td>5849</td>\n",
              "      <td>0.0</td>\n",
              "      <td>NaN</td>\n",
              "      <td>360.0</td>\n",
              "      <td>1.0</td>\n",
              "      <td>Urban</td>\n",
              "      <td>Y</td>\n",
              "    </tr>\n",
              "    <tr>\n",
              "      <th>1</th>\n",
              "      <td>LP001003</td>\n",
              "      <td>Male</td>\n",
              "      <td>Yes</td>\n",
              "      <td>1</td>\n",
              "      <td>Graduate</td>\n",
              "      <td>No</td>\n",
              "      <td>4583</td>\n",
              "      <td>1508.0</td>\n",
              "      <td>128.0</td>\n",
              "      <td>360.0</td>\n",
              "      <td>1.0</td>\n",
              "      <td>Rural</td>\n",
              "      <td>N</td>\n",
              "    </tr>\n",
              "    <tr>\n",
              "      <th>2</th>\n",
              "      <td>LP001005</td>\n",
              "      <td>Male</td>\n",
              "      <td>Yes</td>\n",
              "      <td>0</td>\n",
              "      <td>Graduate</td>\n",
              "      <td>Yes</td>\n",
              "      <td>3000</td>\n",
              "      <td>0.0</td>\n",
              "      <td>66.0</td>\n",
              "      <td>360.0</td>\n",
              "      <td>1.0</td>\n",
              "      <td>Urban</td>\n",
              "      <td>Y</td>\n",
              "    </tr>\n",
              "    <tr>\n",
              "      <th>3</th>\n",
              "      <td>LP001006</td>\n",
              "      <td>Male</td>\n",
              "      <td>Yes</td>\n",
              "      <td>0</td>\n",
              "      <td>Not Graduate</td>\n",
              "      <td>No</td>\n",
              "      <td>2583</td>\n",
              "      <td>2358.0</td>\n",
              "      <td>120.0</td>\n",
              "      <td>360.0</td>\n",
              "      <td>1.0</td>\n",
              "      <td>Urban</td>\n",
              "      <td>Y</td>\n",
              "    </tr>\n",
              "    <tr>\n",
              "      <th>4</th>\n",
              "      <td>LP001008</td>\n",
              "      <td>Male</td>\n",
              "      <td>No</td>\n",
              "      <td>0</td>\n",
              "      <td>Graduate</td>\n",
              "      <td>No</td>\n",
              "      <td>6000</td>\n",
              "      <td>0.0</td>\n",
              "      <td>141.0</td>\n",
              "      <td>360.0</td>\n",
              "      <td>1.0</td>\n",
              "      <td>Urban</td>\n",
              "      <td>Y</td>\n",
              "    </tr>\n",
              "  </tbody>\n",
              "</table>\n",
              "</div>\n",
              "      <button class=\"colab-df-convert\" onclick=\"convertToInteractive('df-75b48aab-1549-45bc-ba4f-5ba2e3a38923')\"\n",
              "              title=\"Convert this dataframe to an interactive table.\"\n",
              "              style=\"display:none;\">\n",
              "        \n",
              "  <svg xmlns=\"http://www.w3.org/2000/svg\" height=\"24px\"viewBox=\"0 0 24 24\"\n",
              "       width=\"24px\">\n",
              "    <path d=\"M0 0h24v24H0V0z\" fill=\"none\"/>\n",
              "    <path d=\"M18.56 5.44l.94 2.06.94-2.06 2.06-.94-2.06-.94-.94-2.06-.94 2.06-2.06.94zm-11 1L8.5 8.5l.94-2.06 2.06-.94-2.06-.94L8.5 2.5l-.94 2.06-2.06.94zm10 10l.94 2.06.94-2.06 2.06-.94-2.06-.94-.94-2.06-.94 2.06-2.06.94z\"/><path d=\"M17.41 7.96l-1.37-1.37c-.4-.4-.92-.59-1.43-.59-.52 0-1.04.2-1.43.59L10.3 9.45l-7.72 7.72c-.78.78-.78 2.05 0 2.83L4 21.41c.39.39.9.59 1.41.59.51 0 1.02-.2 1.41-.59l7.78-7.78 2.81-2.81c.8-.78.8-2.07 0-2.86zM5.41 20L4 18.59l7.72-7.72 1.47 1.35L5.41 20z\"/>\n",
              "  </svg>\n",
              "      </button>\n",
              "      \n",
              "  <style>\n",
              "    .colab-df-container {\n",
              "      display:flex;\n",
              "      flex-wrap:wrap;\n",
              "      gap: 12px;\n",
              "    }\n",
              "\n",
              "    .colab-df-convert {\n",
              "      background-color: #E8F0FE;\n",
              "      border: none;\n",
              "      border-radius: 50%;\n",
              "      cursor: pointer;\n",
              "      display: none;\n",
              "      fill: #1967D2;\n",
              "      height: 32px;\n",
              "      padding: 0 0 0 0;\n",
              "      width: 32px;\n",
              "    }\n",
              "\n",
              "    .colab-df-convert:hover {\n",
              "      background-color: #E2EBFA;\n",
              "      box-shadow: 0px 1px 2px rgba(60, 64, 67, 0.3), 0px 1px 3px 1px rgba(60, 64, 67, 0.15);\n",
              "      fill: #174EA6;\n",
              "    }\n",
              "\n",
              "    [theme=dark] .colab-df-convert {\n",
              "      background-color: #3B4455;\n",
              "      fill: #D2E3FC;\n",
              "    }\n",
              "\n",
              "    [theme=dark] .colab-df-convert:hover {\n",
              "      background-color: #434B5C;\n",
              "      box-shadow: 0px 1px 3px 1px rgba(0, 0, 0, 0.15);\n",
              "      filter: drop-shadow(0px 1px 2px rgba(0, 0, 0, 0.3));\n",
              "      fill: #FFFFFF;\n",
              "    }\n",
              "  </style>\n",
              "\n",
              "      <script>\n",
              "        const buttonEl =\n",
              "          document.querySelector('#df-75b48aab-1549-45bc-ba4f-5ba2e3a38923 button.colab-df-convert');\n",
              "        buttonEl.style.display =\n",
              "          google.colab.kernel.accessAllowed ? 'block' : 'none';\n",
              "\n",
              "        async function convertToInteractive(key) {\n",
              "          const element = document.querySelector('#df-75b48aab-1549-45bc-ba4f-5ba2e3a38923');\n",
              "          const dataTable =\n",
              "            await google.colab.kernel.invokeFunction('convertToInteractive',\n",
              "                                                     [key], {});\n",
              "          if (!dataTable) return;\n",
              "\n",
              "          const docLinkHtml = 'Like what you see? Visit the ' +\n",
              "            '<a target=\"_blank\" href=https://colab.research.google.com/notebooks/data_table.ipynb>data table notebook</a>'\n",
              "            + ' to learn more about interactive tables.';\n",
              "          element.innerHTML = '';\n",
              "          dataTable['output_type'] = 'display_data';\n",
              "          await google.colab.output.renderOutput(dataTable, element);\n",
              "          const docLink = document.createElement('div');\n",
              "          docLink.innerHTML = docLinkHtml;\n",
              "          element.appendChild(docLink);\n",
              "        }\n",
              "      </script>\n",
              "    </div>\n",
              "  </div>\n",
              "  "
            ],
            "text/plain": [
              "    Loan_ID Gender Married  ... Credit_History Property_Area Loan_Status\n",
              "0  LP001002   Male      No  ...            1.0         Urban           Y\n",
              "1  LP001003   Male     Yes  ...            1.0         Rural           N\n",
              "2  LP001005   Male     Yes  ...            1.0         Urban           Y\n",
              "3  LP001006   Male     Yes  ...            1.0         Urban           Y\n",
              "4  LP001008   Male      No  ...            1.0         Urban           Y\n",
              "\n",
              "[5 rows x 13 columns]"
            ]
          },
          "metadata": {},
          "execution_count": 187
        }
      ]
    },
    {
      "cell_type": "markdown",
      "source": [
        "## **Exploratory Data Analysis (EDA)**"
      ],
      "metadata": {
        "id": "Vj7WCPtodFjw"
      }
    },
    {
      "cell_type": "code",
      "source": [
        "# Shape of the dataframe\n",
        "print(df.shape)\n",
        "print(\"Number of lines :\", df.shape[0])\n",
        "print(\"Number of columns :\", df.shape[1])"
      ],
      "metadata": {
        "colab": {
          "base_uri": "https://localhost:8080/"
        },
        "id": "AC7djwi8dJO5",
        "outputId": "77a0edc2-5b7d-4244-c33d-71443191ca84"
      },
      "execution_count": 188,
      "outputs": [
        {
          "output_type": "stream",
          "name": "stdout",
          "text": [
            "(614, 13)\n",
            "Number of lines : 614\n",
            "Number of columns : 13\n"
          ]
        }
      ]
    },
    {
      "cell_type": "code",
      "source": [
        "# List of columns\n",
        "df.columns"
      ],
      "metadata": {
        "colab": {
          "base_uri": "https://localhost:8080/"
        },
        "id": "L_kCjiSMdieO",
        "outputId": "bff724cb-abff-4d37-e6c0-fcbf5208a142"
      },
      "execution_count": 189,
      "outputs": [
        {
          "output_type": "execute_result",
          "data": {
            "text/plain": [
              "Index(['Loan_ID', 'Gender', 'Married', 'Dependents', 'Education',\n",
              "       'Self_Employed', 'ApplicantIncome', 'CoapplicantIncome', 'LoanAmount',\n",
              "       'Loan_Amount_Term', 'Credit_History', 'Property_Area', 'Loan_Status'],\n",
              "      dtype='object')"
            ]
          },
          "metadata": {},
          "execution_count": 189
        }
      ]
    },
    {
      "cell_type": "code",
      "source": [
        "# Information about the dataframe\n",
        "df.info()"
      ],
      "metadata": {
        "colab": {
          "base_uri": "https://localhost:8080/"
        },
        "id": "suizVxfodpFn",
        "outputId": "c635dd4d-962b-4c8b-9bfd-971a5101396d"
      },
      "execution_count": 190,
      "outputs": [
        {
          "output_type": "stream",
          "name": "stdout",
          "text": [
            "<class 'pandas.core.frame.DataFrame'>\n",
            "RangeIndex: 614 entries, 0 to 613\n",
            "Data columns (total 13 columns):\n",
            " #   Column             Non-Null Count  Dtype  \n",
            "---  ------             --------------  -----  \n",
            " 0   Loan_ID            614 non-null    object \n",
            " 1   Gender             601 non-null    object \n",
            " 2   Married            611 non-null    object \n",
            " 3   Dependents         599 non-null    object \n",
            " 4   Education          614 non-null    object \n",
            " 5   Self_Employed      582 non-null    object \n",
            " 6   ApplicantIncome    614 non-null    int64  \n",
            " 7   CoapplicantIncome  614 non-null    float64\n",
            " 8   LoanAmount         592 non-null    float64\n",
            " 9   Loan_Amount_Term   600 non-null    float64\n",
            " 10  Credit_History     564 non-null    float64\n",
            " 11  Property_Area      614 non-null    object \n",
            " 12  Loan_Status        614 non-null    object \n",
            "dtypes: float64(4), int64(1), object(8)\n",
            "memory usage: 62.5+ KB\n"
          ]
        }
      ]
    },
    {
      "cell_type": "code",
      "source": [
        "# Data types\n",
        "df.dtypes.value_counts()"
      ],
      "metadata": {
        "colab": {
          "base_uri": "https://localhost:8080/"
        },
        "id": "hNEej4pLdsoR",
        "outputId": "b35f1c02-f779-456e-c413-5b0d3173bc24"
      },
      "execution_count": 191,
      "outputs": [
        {
          "output_type": "execute_result",
          "data": {
            "text/plain": [
              "object     8\n",
              "float64    4\n",
              "int64      1\n",
              "dtype: int64"
            ]
          },
          "metadata": {},
          "execution_count": 191
        }
      ]
    },
    {
      "cell_type": "code",
      "source": [
        "# Statistical description of the data\n",
        "df.describe()"
      ],
      "metadata": {
        "colab": {
          "base_uri": "https://localhost:8080/",
          "height": 300
        },
        "id": "jxQQYanudvI_",
        "outputId": "2804edbc-f1a1-48ab-ad14-ea35bb3fd8c4"
      },
      "execution_count": 192,
      "outputs": [
        {
          "output_type": "execute_result",
          "data": {
            "text/html": [
              "\n",
              "  <div id=\"df-11a8919b-8bab-4867-83c6-7ed0e08cfd52\">\n",
              "    <div class=\"colab-df-container\">\n",
              "      <div>\n",
              "<style scoped>\n",
              "    .dataframe tbody tr th:only-of-type {\n",
              "        vertical-align: middle;\n",
              "    }\n",
              "\n",
              "    .dataframe tbody tr th {\n",
              "        vertical-align: top;\n",
              "    }\n",
              "\n",
              "    .dataframe thead th {\n",
              "        text-align: right;\n",
              "    }\n",
              "</style>\n",
              "<table border=\"1\" class=\"dataframe\">\n",
              "  <thead>\n",
              "    <tr style=\"text-align: right;\">\n",
              "      <th></th>\n",
              "      <th>ApplicantIncome</th>\n",
              "      <th>CoapplicantIncome</th>\n",
              "      <th>LoanAmount</th>\n",
              "      <th>Loan_Amount_Term</th>\n",
              "      <th>Credit_History</th>\n",
              "    </tr>\n",
              "  </thead>\n",
              "  <tbody>\n",
              "    <tr>\n",
              "      <th>count</th>\n",
              "      <td>614.000000</td>\n",
              "      <td>614.000000</td>\n",
              "      <td>592.000000</td>\n",
              "      <td>600.00000</td>\n",
              "      <td>564.000000</td>\n",
              "    </tr>\n",
              "    <tr>\n",
              "      <th>mean</th>\n",
              "      <td>5403.459283</td>\n",
              "      <td>1621.245798</td>\n",
              "      <td>146.412162</td>\n",
              "      <td>342.00000</td>\n",
              "      <td>0.842199</td>\n",
              "    </tr>\n",
              "    <tr>\n",
              "      <th>std</th>\n",
              "      <td>6109.041673</td>\n",
              "      <td>2926.248369</td>\n",
              "      <td>85.587325</td>\n",
              "      <td>65.12041</td>\n",
              "      <td>0.364878</td>\n",
              "    </tr>\n",
              "    <tr>\n",
              "      <th>min</th>\n",
              "      <td>150.000000</td>\n",
              "      <td>0.000000</td>\n",
              "      <td>9.000000</td>\n",
              "      <td>12.00000</td>\n",
              "      <td>0.000000</td>\n",
              "    </tr>\n",
              "    <tr>\n",
              "      <th>25%</th>\n",
              "      <td>2877.500000</td>\n",
              "      <td>0.000000</td>\n",
              "      <td>100.000000</td>\n",
              "      <td>360.00000</td>\n",
              "      <td>1.000000</td>\n",
              "    </tr>\n",
              "    <tr>\n",
              "      <th>50%</th>\n",
              "      <td>3812.500000</td>\n",
              "      <td>1188.500000</td>\n",
              "      <td>128.000000</td>\n",
              "      <td>360.00000</td>\n",
              "      <td>1.000000</td>\n",
              "    </tr>\n",
              "    <tr>\n",
              "      <th>75%</th>\n",
              "      <td>5795.000000</td>\n",
              "      <td>2297.250000</td>\n",
              "      <td>168.000000</td>\n",
              "      <td>360.00000</td>\n",
              "      <td>1.000000</td>\n",
              "    </tr>\n",
              "    <tr>\n",
              "      <th>max</th>\n",
              "      <td>81000.000000</td>\n",
              "      <td>41667.000000</td>\n",
              "      <td>700.000000</td>\n",
              "      <td>480.00000</td>\n",
              "      <td>1.000000</td>\n",
              "    </tr>\n",
              "  </tbody>\n",
              "</table>\n",
              "</div>\n",
              "      <button class=\"colab-df-convert\" onclick=\"convertToInteractive('df-11a8919b-8bab-4867-83c6-7ed0e08cfd52')\"\n",
              "              title=\"Convert this dataframe to an interactive table.\"\n",
              "              style=\"display:none;\">\n",
              "        \n",
              "  <svg xmlns=\"http://www.w3.org/2000/svg\" height=\"24px\"viewBox=\"0 0 24 24\"\n",
              "       width=\"24px\">\n",
              "    <path d=\"M0 0h24v24H0V0z\" fill=\"none\"/>\n",
              "    <path d=\"M18.56 5.44l.94 2.06.94-2.06 2.06-.94-2.06-.94-.94-2.06-.94 2.06-2.06.94zm-11 1L8.5 8.5l.94-2.06 2.06-.94-2.06-.94L8.5 2.5l-.94 2.06-2.06.94zm10 10l.94 2.06.94-2.06 2.06-.94-2.06-.94-.94-2.06-.94 2.06-2.06.94z\"/><path d=\"M17.41 7.96l-1.37-1.37c-.4-.4-.92-.59-1.43-.59-.52 0-1.04.2-1.43.59L10.3 9.45l-7.72 7.72c-.78.78-.78 2.05 0 2.83L4 21.41c.39.39.9.59 1.41.59.51 0 1.02-.2 1.41-.59l7.78-7.78 2.81-2.81c.8-.78.8-2.07 0-2.86zM5.41 20L4 18.59l7.72-7.72 1.47 1.35L5.41 20z\"/>\n",
              "  </svg>\n",
              "      </button>\n",
              "      \n",
              "  <style>\n",
              "    .colab-df-container {\n",
              "      display:flex;\n",
              "      flex-wrap:wrap;\n",
              "      gap: 12px;\n",
              "    }\n",
              "\n",
              "    .colab-df-convert {\n",
              "      background-color: #E8F0FE;\n",
              "      border: none;\n",
              "      border-radius: 50%;\n",
              "      cursor: pointer;\n",
              "      display: none;\n",
              "      fill: #1967D2;\n",
              "      height: 32px;\n",
              "      padding: 0 0 0 0;\n",
              "      width: 32px;\n",
              "    }\n",
              "\n",
              "    .colab-df-convert:hover {\n",
              "      background-color: #E2EBFA;\n",
              "      box-shadow: 0px 1px 2px rgba(60, 64, 67, 0.3), 0px 1px 3px 1px rgba(60, 64, 67, 0.15);\n",
              "      fill: #174EA6;\n",
              "    }\n",
              "\n",
              "    [theme=dark] .colab-df-convert {\n",
              "      background-color: #3B4455;\n",
              "      fill: #D2E3FC;\n",
              "    }\n",
              "\n",
              "    [theme=dark] .colab-df-convert:hover {\n",
              "      background-color: #434B5C;\n",
              "      box-shadow: 0px 1px 3px 1px rgba(0, 0, 0, 0.15);\n",
              "      filter: drop-shadow(0px 1px 2px rgba(0, 0, 0, 0.3));\n",
              "      fill: #FFFFFF;\n",
              "    }\n",
              "  </style>\n",
              "\n",
              "      <script>\n",
              "        const buttonEl =\n",
              "          document.querySelector('#df-11a8919b-8bab-4867-83c6-7ed0e08cfd52 button.colab-df-convert');\n",
              "        buttonEl.style.display =\n",
              "          google.colab.kernel.accessAllowed ? 'block' : 'none';\n",
              "\n",
              "        async function convertToInteractive(key) {\n",
              "          const element = document.querySelector('#df-11a8919b-8bab-4867-83c6-7ed0e08cfd52');\n",
              "          const dataTable =\n",
              "            await google.colab.kernel.invokeFunction('convertToInteractive',\n",
              "                                                     [key], {});\n",
              "          if (!dataTable) return;\n",
              "\n",
              "          const docLinkHtml = 'Like what you see? Visit the ' +\n",
              "            '<a target=\"_blank\" href=https://colab.research.google.com/notebooks/data_table.ipynb>data table notebook</a>'\n",
              "            + ' to learn more about interactive tables.';\n",
              "          element.innerHTML = '';\n",
              "          dataTable['output_type'] = 'display_data';\n",
              "          await google.colab.output.renderOutput(dataTable, element);\n",
              "          const docLink = document.createElement('div');\n",
              "          docLink.innerHTML = docLinkHtml;\n",
              "          element.appendChild(docLink);\n",
              "        }\n",
              "      </script>\n",
              "    </div>\n",
              "  </div>\n",
              "  "
            ],
            "text/plain": [
              "       ApplicantIncome  CoapplicantIncome  ...  Loan_Amount_Term  Credit_History\n",
              "count       614.000000         614.000000  ...         600.00000      564.000000\n",
              "mean       5403.459283        1621.245798  ...         342.00000        0.842199\n",
              "std        6109.041673        2926.248369  ...          65.12041        0.364878\n",
              "min         150.000000           0.000000  ...          12.00000        0.000000\n",
              "25%        2877.500000           0.000000  ...         360.00000        1.000000\n",
              "50%        3812.500000        1188.500000  ...         360.00000        1.000000\n",
              "75%        5795.000000        2297.250000  ...         360.00000        1.000000\n",
              "max       81000.000000       41667.000000  ...         480.00000        1.000000\n",
              "\n",
              "[8 rows x 5 columns]"
            ]
          },
          "metadata": {},
          "execution_count": 192
        }
      ]
    },
    {
      "cell_type": "code",
      "source": [
        "# Number of missing values of each variable in the dataframe\n",
        "df.isna().sum().sort_values(ascending=False)"
      ],
      "metadata": {
        "colab": {
          "base_uri": "https://localhost:8080/"
        },
        "id": "kE2mdMFDdyl2",
        "outputId": "259815e2-abff-4a31-cb5f-c462718ac775"
      },
      "execution_count": 193,
      "outputs": [
        {
          "output_type": "execute_result",
          "data": {
            "text/plain": [
              "Credit_History       50\n",
              "Self_Employed        32\n",
              "LoanAmount           22\n",
              "Dependents           15\n",
              "Loan_Amount_Term     14\n",
              "Gender               13\n",
              "Married               3\n",
              "Loan_Status           0\n",
              "Property_Area         0\n",
              "CoapplicantIncome     0\n",
              "ApplicantIncome       0\n",
              "Education             0\n",
              "Loan_ID               0\n",
              "dtype: int64"
            ]
          },
          "metadata": {},
          "execution_count": 193
        }
      ]
    },
    {
      "cell_type": "code",
      "source": [
        "# Total number of missing values\n",
        "print(\"Total number of missing values :\", (df.isna().sum()).sum())"
      ],
      "metadata": {
        "colab": {
          "base_uri": "https://localhost:8080/"
        },
        "id": "Qe1svP_ud11o",
        "outputId": "4ecce9af-9831-4061-aeb3-3bd0c16846b9"
      },
      "execution_count": 194,
      "outputs": [
        {
          "output_type": "stream",
          "name": "stdout",
          "text": [
            "Total number of missing values : 149\n"
          ]
        }
      ]
    },
    {
      "cell_type": "code",
      "source": [
        "# Visualize the missing values\n",
        "plt.figure(figsize=(5, 5))\n",
        "df.isna().sum().plot(kind=\"barh\")\n",
        "plt.ylabel(\"Variable name\")\n",
        "plt.xlabel(\"Number of missing values\")\n",
        "plt.show()"
      ],
      "metadata": {
        "colab": {
          "base_uri": "https://localhost:8080/",
          "height": 334
        },
        "id": "3DSEl4tQd5j-",
        "outputId": "7a812766-ea51-4cb6-ee7e-2c262899462b"
      },
      "execution_count": 195,
      "outputs": [
        {
          "output_type": "display_data",
          "data": {
            "image/png": "[encoded data removed]",
            "text/plain": [
              "<Figure size 360x360 with 1 Axes>"
            ]
          },
          "metadata": {
            "needs_background": "light"
          }
        }
      ]
    },
    {
      "cell_type": "code",
      "source": [
        "# Analysis of the target variable 'Loan_Status'\n",
        "df['Loan_Status'].value_counts(normalize=True)*100"
      ],
      "metadata": {
        "colab": {
          "base_uri": "https://localhost:8080/"
        },
        "id": "YepV9p0beZQI",
        "outputId": "252d5ce7-7043-475c-cfe7-f6c8e79742bc"
      },
      "execution_count": 196,
      "outputs": [
        {
          "output_type": "execute_result",
          "data": {
            "text/plain": [
              "Y    68.729642\n",
              "N    31.270358\n",
              "Name: Loan_Status, dtype: float64"
            ]
          },
          "metadata": {},
          "execution_count": 196
        }
      ]
    },
    {
      "cell_type": "code",
      "source": [
        "# Visualization of the target variable 'Loan_Status' with a bar chart\n",
        "sns.countplot(x='Loan_Status', data=df)\n",
        "plt.show()"
      ],
      "metadata": {
        "colab": {
          "base_uri": "https://localhost:8080/",
          "height": 280
        },
        "id": "KxgJPKpkebVV",
        "outputId": "d550dc78-3aaf-4f89-b3fd-45ab192ff7ac"
      },
      "execution_count": 197,
      "outputs": [
        {
          "output_type": "display_data",
          "data": {
            "image/png": "[encoded data removed]",
            "text/plain": [
              "<Figure size 432x288 with 1 Axes>"
            ]
          },
          "metadata": {
            "needs_background": "light"
          }
        }
      ]
    },
    {
      "cell_type": "markdown",
      "source": [
        "**Analysis of the target variable :**\n",
        "\n",
        "- **68.73%** of credit applications were approved.\n",
        "\n",
        "- **31.27%** of credit applications were refused."
      ],
      "metadata": {
        "id": "DhZ_JiZBegVT"
      }
    },
    {
      "cell_type": "code",
      "source": [
        "# Analysis of categorical variables\n",
        "\n",
        "# Gender\n",
        "print(\"# Gender\")\n",
        "print(df['Gender'].value_counts(normalize=True)*100)\n",
        "print(\"-\"*35)\n",
        "\n",
        "# Married\n",
        "print(\"# Married\")\n",
        "print(df['Married'].value_counts(normalize=True)*100)\n",
        "print(\"-\"*35)\n",
        "\n",
        "# Education\n",
        "print(\"# Education\")\n",
        "print(df['Education'].value_counts(normalize=True)*100)\n",
        "print(\"-\"*35)\n",
        "\n",
        "# Self_Employed\n",
        "print(\"# Self_Employed\")\n",
        "print(df['Self_Employed'].value_counts(normalize=True)*100)\n",
        "print(\"-\"*35)"
      ],
      "metadata": {
        "colab": {
          "base_uri": "https://localhost:8080/"
        },
        "id": "No9k4EmbenEf",
        "outputId": "ead26b3d-52c8-4d13-a46b-a8df3b3fcf72"
      },
      "execution_count": 198,
      "outputs": [
        {
          "output_type": "stream",
          "name": "stdout",
          "text": [
            "# Gender\n",
            "Male      81.364393\n",
            "Female    18.635607\n",
            "Name: Gender, dtype: float64\n",
            "-----------------------------------\n",
            "# Married\n",
            "Yes    65.139116\n",
            "No     34.860884\n",
            "Name: Married, dtype: float64\n",
            "-----------------------------------\n",
            "# Education\n",
            "Graduate        78.175896\n",
            "Not Graduate    21.824104\n",
            "Name: Education, dtype: float64\n",
            "-----------------------------------\n",
            "# Self_Employed\n",
            "No     85.910653\n",
            "Yes    14.089347\n",
            "Name: Self_Employed, dtype: float64\n",
            "-----------------------------------\n"
          ]
        }
      ]
    },
    {
      "cell_type": "code",
      "source": [
        "plt.figure(figsize=(15, 10))\n",
        "\n",
        "# Gender \n",
        "plt.subplot(2, 2, 1)\n",
        "sns.countplot(x = 'Gender', data = df)\n",
        "\n",
        "# Married\n",
        "plt.subplot(2, 2, 2)\n",
        "sns.countplot(x = 'Married', data = df)\n",
        "\n",
        "# Education\n",
        "plt.subplot(2, 2, 3)\n",
        "sns.countplot(x = 'Education', data = df)\n",
        "\n",
        "# Self_Employed\n",
        "plt.subplot(2, 2, 4)\n",
        "sns.countplot(x = 'Self_Employed', data = df)\n",
        "\n",
        "plt.show()"
      ],
      "metadata": {
        "colab": {
          "base_uri": "https://localhost:8080/",
          "height": 606
        },
        "id": "WWoJJrUJepQW",
        "outputId": "2e2d3974-34e9-4bbb-9fa7-caa3012beef2"
      },
      "execution_count": 199,
      "outputs": [
        {
          "output_type": "display_data",
          "data": {
            "image/png": "[encoded data removed]",
            "text/plain": [
              "<Figure size 1080x720 with 4 Axes>"
            ]
          },
          "metadata": {
            "needs_background": "light"
          }
        }
      ]
    },
    {
      "cell_type": "markdown",
      "source": [
        "**Analysis of categorical variables:** \n",
        "- The majority of credit applicants are men (over 81%).\n",
        "- Most credit applicants are married (over 65%).\n",
        "- More than 78% of credit applicants are graduated.\n",
        "- Only 14% of credit applicants are self-employed."
      ],
      "metadata": {
        "id": "_Gi331AmevVe"
      }
    },
    {
      "cell_type": "code",
      "source": [
        "# Analysis of ordinal variables\n",
        "\n",
        "# Dependents\n",
        "print(\"# Dependents\")\n",
        "print(df['Dependents'].value_counts(normalize=True)*100)\n",
        "print(\"-\"*35)\n",
        "\n",
        "# Self_Employed\n",
        "print(\"# Property_Area\")\n",
        "print(df['Property_Area'].value_counts(normalize=True)*100)\n",
        "print(\"-\"*35)"
      ],
      "metadata": {
        "colab": {
          "base_uri": "https://localhost:8080/"
        },
        "id": "qjTxjk99eyzR",
        "outputId": "68119c15-5baf-498a-d46d-faaaa0b0be44"
      },
      "execution_count": 200,
      "outputs": [
        {
          "output_type": "stream",
          "name": "stdout",
          "text": [
            "# Dependents\n",
            "0     57.595993\n",
            "1     17.028381\n",
            "2     16.861436\n",
            "3+     8.514190\n",
            "Name: Dependents, dtype: float64\n",
            "-----------------------------------\n",
            "# Property_Area\n",
            "Semiurban    37.947883\n",
            "Urban        32.899023\n",
            "Rural        29.153094\n",
            "Name: Property_Area, dtype: float64\n",
            "-----------------------------------\n"
          ]
        }
      ]
    },
    {
      "cell_type": "code",
      "source": [
        "plt.figure(figsize=(20, 5))\n",
        "\n",
        "# Dependents \n",
        "plt.subplot(1, 2, 1)\n",
        "sns.countplot(x = 'Dependents', data = df)\n",
        "\n",
        "# Property_Area\n",
        "plt.subplot(1, 2, 2)\n",
        "sns.countplot(x = 'Property_Area', data = df)\n",
        "\n",
        "plt.show()"
      ],
      "metadata": {
        "colab": {
          "base_uri": "https://localhost:8080/",
          "height": 273
        },
        "id": "C6_FnxiEe3tF",
        "outputId": "853a08e0-116c-4404-8c2d-ce21ffeed1c7"
      },
      "execution_count": 201,
      "outputs": [
        {
          "output_type": "display_data",
          "data": {
            "image/png": "[encoded data removed]",
            "text/plain": [
              "<Figure size 1440x360 with 2 Axes>"
            ]
          },
          "metadata": {
            "needs_background": "light"
          }
        }
      ]
    },
    {
      "cell_type": "markdown",
      "source": [
        "**Analysis of ordinal variables :** \n",
        "\n",
        "- The majority of credit applicants have no dependents (over 57%).\n",
        "- The **semi-urban** area is the area with the most credit applicants."
      ],
      "metadata": {
        "id": "-RpMlTZee8J9"
      }
    },
    {
      "cell_type": "code",
      "source": [
        "# Analysis of numerical variables\n",
        "plt.figure(figsize=(20, 10))\n",
        "\n",
        "# ApplicantIncome\n",
        "plt.subplot(2, 2, 1)\n",
        "sns.histplot(x = 'ApplicantIncome', data = df)\n",
        "\n",
        "# CoapplicantIncome\n",
        "plt.subplot(2, 2, 2)\n",
        "sns.histplot(x = 'CoapplicantIncome', data = df)\n",
        "\n",
        "# LoanAmount\n",
        "plt.subplot(2, 2, 3)\n",
        "sns.histplot(x ='LoanAmount', data = df)\n",
        "\n",
        "# Loan_Amount_Term\n",
        "plt.subplot(2, 2, 4)\n",
        "sns.histplot(x ='Loan_Amount_Term', data = df)\n",
        "\n",
        "plt.show()"
      ],
      "metadata": {
        "colab": {
          "base_uri": "https://localhost:8080/",
          "height": 492
        },
        "id": "jR1-OGCNe_5l",
        "outputId": "1e0c2d66-b188-427c-c9f2-23857ed5fdde"
      },
      "execution_count": 202,
      "outputs": [
        {
          "output_type": "display_data",
          "data": {
            "image/png": "[encoded data removed]",
            "text/plain": [
              "<Figure size 1440x720 with 4 Axes>"
            ]
          },
          "metadata": {
            "needs_background": "light"
          }
        }
      ]
    },
    {
      "cell_type": "code",
      "source": [
        "plt.figure(figsize=(20, 10))\n",
        "\n",
        "# ApplicantIncome\n",
        "plt.subplot(2, 2, 1)\n",
        "sns.boxplot(x = 'ApplicantIncome', data = df)\n",
        "\n",
        "# CoapplicantIncome\n",
        "plt.subplot(2, 2, 2)\n",
        "sns.boxplot(x = 'CoapplicantIncome', data = df)\n",
        "\n",
        "# LoanAmount\n",
        "plt.subplot(2, 2, 3)\n",
        "sns.boxplot(x ='LoanAmount', data = df)\n",
        "\n",
        "# Loan_Amount_Term\n",
        "plt.subplot(2, 2, 4)\n",
        "sns.boxplot(x ='Loan_Amount_Term', data = df)\n",
        "\n",
        "plt.show()"
      ],
      "metadata": {
        "colab": {
          "base_uri": "https://localhost:8080/",
          "height": 505
        },
        "id": "cEjI0HGzfHc1",
        "outputId": "6c0d92aa-f6fd-4b8e-dc08-b5d1ed11e6fb"
      },
      "execution_count": 203,
      "outputs": [
        {
          "output_type": "display_data",
          "data": {
            "image/png": "[encoded data removed]",
            "text/plain": [
              "<Figure size 1440x720 with 4 Axes>"
            ]
          },
          "metadata": {
            "needs_background": "light"
          }
        }
      ]
    },
    {
      "cell_type": "markdown",
      "source": [
        "**Analysis of numerical variables :**\n",
        "\n",
        "- The income of applicants generally varies between 0 and 10,000.\n",
        "- The amount of credit requested is much more between 0 and 200.\n",
        "- We observe that the variables **ApplicantIncome**, **CoapplicantIncome** and **LoanAmount** contain outliers."
      ],
      "metadata": {
        "id": "Y93XUV_wfNrv"
      }
    },
    {
      "cell_type": "code",
      "source": [
        "# Relationship between the independent variables and the target variable\n",
        "\n",
        "# Gendre / Loan_Status\n",
        "Gender=pd.crosstab(df['Gender'], df['Loan_Status']) \n",
        "Gender.div(Gender.sum(1).astype(float), axis=0).plot(kind=\"bar\", figsize=(10,5), title=\"Relationship between Gender and Loan_Status\") \n",
        "plt.show()\n",
        "\n",
        "# Married / Loan_Status\n",
        "Married=pd.crosstab(df['Married'], df['Loan_Status']) \n",
        "Married.div(Married.sum(1).astype(float), axis=0).plot(kind=\"bar\", figsize=(10,5), title=\"Relationship between Married and Loan_Status\") \n",
        "plt.show()"
      ],
      "metadata": {
        "colab": {
          "base_uri": "https://localhost:8080/",
          "height": 715
        },
        "id": "8AfJte1LfVqx",
        "outputId": "3f351e5e-05ce-418c-bb48-5fccafba69ab"
      },
      "execution_count": 204,
      "outputs": [
        {
          "output_type": "display_data",
          "data": {
            "image/png": "[encoded data removed]",
            "text/plain": [
              "<Figure size 720x360 with 1 Axes>"
            ]
          },
          "metadata": {
            "needs_background": "light"
          }
        },
        {
          "output_type": "display_data",
          "data": {
            "image/png": "[encoded data removed]",
            "text/plain": [
              "<Figure size 720x360 with 1 Axes>"
            ]
          },
          "metadata": {
            "needs_background": "light"
          }
        }
      ]
    },
    {
      "cell_type": "code",
      "source": [
        "# Dependents / Loan_Status\n",
        "Dependents=pd.crosstab(df['Dependents'], df['Loan_Status'])\n",
        "Dependents.div(Dependents.sum(1).astype(float), axis=0).plot(kind=\"bar\", figsize=(10,5), title=\"Relationship between Dependents and Loan_Status\") \n",
        "plt.show()\n",
        "\n",
        "# Education / Loan_Status\n",
        "Education=pd.crosstab(df['Education'], df['Loan_Status'])\n",
        "Education.div(Education.sum(1).astype(float), axis=0).plot(kind=\"bar\", figsize=(10,5), title=\"Relationship between Education and Loan_Status\") \n",
        "plt.show()\n",
        "\n",
        "# Self_Employed / Loan_Status\n",
        "Self_Employed=pd.crosstab(df['Self_Employed'], df['Loan_Status'])\n",
        "Self_Employed.div(Self_Employed.sum(1).astype(float), axis=0).plot(kind=\"bar\", figsize=(10,5), title=\"Relationship between Self_Employed and Loan_Status\") \n",
        "plt.show()"
      ],
      "metadata": {
        "colab": {
          "base_uri": "https://localhost:8080/",
          "height": 1000
        },
        "id": "6tdI5aABfZwl",
        "outputId": "33c7818b-4e36-4685-93ff-18ceffcfff5e"
      },
      "execution_count": 205,
      "outputs": [
        {
          "output_type": "display_data",
          "data": {
            "image/png": "[encoded data removed]",
            "text/plain": [
              "<Figure size 720x360 with 1 Axes>"
            ]
          },
          "metadata": {
            "needs_background": "light"
          }
        },
        {
          "output_type": "display_data",
          "data": {
            "image/png": "[encoded data removed]",
            "text/plain": [
              "<Figure size 720x360 with 1 Axes>"
            ]
          },
          "metadata": {
            "needs_background": "light"
          }
        },
        {
          "output_type": "display_data",
          "data": {
            "image/png": "[encoded data removed]",
            "text/plain": [
              "<Figure size 720x360 with 1 Axes>"
            ]
          },
          "metadata": {
            "needs_background": "light"
          }
        }
      ]
    },
    {
      "cell_type": "code",
      "source": [
        "# Credit_History / Loan_Status\n",
        "Credit_History=pd.crosstab(df['Credit_History'], df['Loan_Status'])\n",
        "Credit_History.div(Credit_History.sum(1).astype(float), axis=0).plot(kind=\"bar\", stacked=True, figsize=(10,5), title=\"Relationship between Credit_History and Loan_Status\") \n",
        "plt.show()\n",
        "\n",
        "# Property_Area / Loan_Status\n",
        "Property_Area=pd.crosstab(df['Property_Area'], df['Loan_Status'])\n",
        "Property_Area.div(Property_Area.sum(1).astype(float), axis=0).plot(kind=\"bar\", stacked=True, figsize=(10,5), title=\"Relationship between Property_Area and Loan_Status\") \n",
        "plt.show()"
      ],
      "metadata": {
        "colab": {
          "base_uri": "https://localhost:8080/",
          "height": 734
        },
        "id": "hEfCN2yqfkO4",
        "outputId": "9c2b9e92-5bb7-4c72-83c3-5a505b0b7bb1"
      },
      "execution_count": 206,
      "outputs": [
        {
          "output_type": "display_data",
          "data": {
            "image/png": "[encoded data removed]",
            "text/plain": [
              "<Figure size 720x360 with 1 Axes>"
            ]
          },
          "metadata": {
            "needs_background": "light"
          }
        },
        {
          "output_type": "display_data",
          "data": {
            "image/png": "[encoded data removed]",
            "text/plain": [
              "<Figure size 720x360 with 1 Axes>"
            ]
          },
          "metadata": {
            "needs_background": "light"
          }
        }
      ]
    },
    {
      "cell_type": "markdown",
      "source": [
        "**Relationship between the independent variables and the target variable :**\n",
        "\n",
        "- There is not really relationship between loan approval and the gender of the applicant.\n",
        "- Married people are the most accepted applicants.\n",
        "- Applicants with 2 dependents are the most accepted.\n",
        "- There is not really a relationship between the approval of the credit application and whether an applicant is self-employed or not.\n",
        "- Applications from graduates are the most approved.\n",
        "- People with an existing credit history are more likely to have their credit applications approved.\n",
        "- Applications from people living in rural areas are the most approved."
      ],
      "metadata": {
        "id": "fq39Oz-5fraF"
      }
    },
    {
      "cell_type": "markdown",
      "source": [
        "## **Data preprocessing**"
      ],
      "metadata": {
        "id": "57OX6jKhfwaJ"
      }
    },
    {
      "cell_type": "markdown",
      "source": [
        "For this step we will perform the following tasks :\n",
        "\n",
        "- Process the missing values\n",
        "- Encode the data\n",
        "- Normalise the data"
      ],
      "metadata": {
        "id": "8aM8xUbbfzDV"
      }
    },
    {
      "cell_type": "code",
      "source": [
        "# Creating a copy of the dataset\n",
        "df1 = df.copy()\n",
        "\n",
        "# Delete Loan_ID from the dataset\n",
        "df1.drop(['Loan_ID'], axis = 1, inplace = True)"
      ],
      "metadata": {
        "id": "EPJ8rhDmf2I5"
      },
      "execution_count": 207,
      "outputs": []
    },
    {
      "cell_type": "markdown",
      "source": [
        "### **Dealing with missing values**"
      ],
      "metadata": {
        "id": "yzJCXJycf5Lu"
      }
    },
    {
      "cell_type": "code",
      "source": [
        "# See missing values\n",
        "df1.isna().sum().sort_values(ascending=False)"
      ],
      "metadata": {
        "colab": {
          "base_uri": "https://localhost:8080/"
        },
        "id": "fx_4vmDcf8Ch",
        "outputId": "360b4ef1-be46-4eba-e380-2846a68e61e2"
      },
      "execution_count": 208,
      "outputs": [
        {
          "output_type": "execute_result",
          "data": {
            "text/plain": [
              "Credit_History       50\n",
              "Self_Employed        32\n",
              "LoanAmount           22\n",
              "Dependents           15\n",
              "Loan_Amount_Term     14\n",
              "Gender               13\n",
              "Married               3\n",
              "Loan_Status           0\n",
              "Property_Area         0\n",
              "CoapplicantIncome     0\n",
              "ApplicantIncome       0\n",
              "Education             0\n",
              "dtype: int64"
            ]
          },
          "metadata": {},
          "execution_count": 208
        }
      ]
    },
    {
      "cell_type": "code",
      "source": [
        "# Replace missing values with :\n",
        "\n",
        "# Married ------------> mode\n",
        "# Gender -------------> mode\n",
        "# Dependents ---------> mode\n",
        "# Self_Employed ------> mode\n",
        "# Credit_History -----> mode\n",
        "# LoanAmount ---------> median\n",
        "# Loan_Amount_Term ---> median\n",
        "\n",
        "def imputation(data):\n",
        "    \"\"\"\n",
        "    Allows to process and replace missing values for each variable in a dataframe.\n",
        "    \n",
        "    data: a dataframe\n",
        "    \"\"\"\n",
        "    data[\"Married\"].fillna(data[\"Married\"].mode()[0], inplace=True)\n",
        "    data[\"Gender\"].fillna(data[\"Gender\"].mode()[0], inplace=True)\n",
        "    data[\"Dependents\"].fillna(data[\"Dependents\"].mode()[0], inplace=True)\n",
        "    data[\"Self_Employed\"].fillna(data[\"Self_Employed\"].mode()[0], inplace=True)\n",
        "    data['Credit_History'].fillna(data['Credit_History'].mode()[0], inplace=True)\n",
        "    data['LoanAmount'].fillna(data['LoanAmount'].median(), inplace=True)\n",
        "    data['Loan_Amount_Term'].fillna(data['Loan_Amount_Term'].median(), inplace=True)\n",
        "\n",
        "imputation(df1)"
      ],
      "metadata": {
        "id": "ZFoqzAjggANX"
      },
      "execution_count": 209,
      "outputs": []
    },
    {
      "cell_type": "code",
      "source": [
        "# Number of missing values after processing\n",
        "df1.isna().sum().sort_values(ascending=False)"
      ],
      "metadata": {
        "colab": {
          "base_uri": "https://localhost:8080/"
        },
        "id": "QtevJ7OMgDhN",
        "outputId": "e3aa1df5-b81b-400f-f52d-c7f7fc40d6b4"
      },
      "execution_count": 210,
      "outputs": [
        {
          "output_type": "execute_result",
          "data": {
            "text/plain": [
              "Loan_Status          0\n",
              "Property_Area        0\n",
              "Credit_History       0\n",
              "Loan_Amount_Term     0\n",
              "LoanAmount           0\n",
              "CoapplicantIncome    0\n",
              "ApplicantIncome      0\n",
              "Self_Employed        0\n",
              "Education            0\n",
              "Dependents           0\n",
              "Married              0\n",
              "Gender               0\n",
              "dtype: int64"
            ]
          },
          "metadata": {},
          "execution_count": 210
        }
      ]
    },
    {
      "cell_type": "markdown",
      "source": [
        "### **Encoding data**"
      ],
      "metadata": {
        "id": "ESt3dooggHSV"
      }
    },
    {
      "cell_type": "code",
      "source": [
        "# Encoding data with the get_dummies() function\n",
        "\n",
        "def encodage(data):\n",
        "    \"\"\"\n",
        "    Function to encode data in a dataframe\n",
        "    \n",
        "    data: un dataframe\n",
        "    \"\"\"\n",
        "    \n",
        "    return pd.get_dummies(data, drop_first=True)\n",
        "    \n",
        "df1 = encodage(df1)\n",
        "df1.head()"
      ],
      "metadata": {
        "colab": {
          "base_uri": "https://localhost:8080/",
          "height": 288
        },
        "id": "_lkyylqxgI7V",
        "outputId": "c72312e1-de37-4af5-9558-4c633b2bc7af"
      },
      "execution_count": 211,
      "outputs": [
        {
          "output_type": "execute_result",
          "data": {
            "text/html": [
              "\n",
              "  <div id=\"df-fb6b2d74-3ecf-4ea2-aa44-aee3658a56e4\">\n",
              "    <div class=\"colab-df-container\">\n",
              "      <div>\n",
              "<style scoped>\n",
              "    .dataframe tbody tr th:only-of-type {\n",
              "        vertical-align: middle;\n",
              "    }\n",
              "\n",
              "    .dataframe tbody tr th {\n",
              "        vertical-align: top;\n",
              "    }\n",
              "\n",
              "    .dataframe thead th {\n",
              "        text-align: right;\n",
              "    }\n",
              "</style>\n",
              "<table border=\"1\" class=\"dataframe\">\n",
              "  <thead>\n",
              "    <tr style=\"text-align: right;\">\n",
              "      <th></th>\n",
              "      <th>ApplicantIncome</th>\n",
              "      <th>CoapplicantIncome</th>\n",
              "      <th>LoanAmount</th>\n",
              "      <th>Loan_Amount_Term</th>\n",
              "      <th>Credit_History</th>\n",
              "      <th>Gender_Male</th>\n",
              "      <th>Married_Yes</th>\n",
              "      <th>Dependents_1</th>\n",
              "      <th>Dependents_2</th>\n",
              "      <th>Dependents_3+</th>\n",
              "      <th>Education_Not Graduate</th>\n",
              "      <th>Self_Employed_Yes</th>\n",
              "      <th>Property_Area_Semiurban</th>\n",
              "      <th>Property_Area_Urban</th>\n",
              "      <th>Loan_Status_Y</th>\n",
              "    </tr>\n",
              "  </thead>\n",
              "  <tbody>\n",
              "    <tr>\n",
              "      <th>0</th>\n",
              "      <td>5849</td>\n",
              "      <td>0.0</td>\n",
              "      <td>128.0</td>\n",
              "      <td>360.0</td>\n",
              "      <td>1.0</td>\n",
              "      <td>1</td>\n",
              "      <td>0</td>\n",
              "      <td>0</td>\n",
              "      <td>0</td>\n",
              "      <td>0</td>\n",
              "      <td>0</td>\n",
              "      <td>0</td>\n",
              "      <td>0</td>\n",
              "      <td>1</td>\n",
              "      <td>1</td>\n",
              "    </tr>\n",
              "    <tr>\n",
              "      <th>1</th>\n",
              "      <td>4583</td>\n",
              "      <td>1508.0</td>\n",
              "      <td>128.0</td>\n",
              "      <td>360.0</td>\n",
              "      <td>1.0</td>\n",
              "      <td>1</td>\n",
              "      <td>1</td>\n",
              "      <td>1</td>\n",
              "      <td>0</td>\n",
              "      <td>0</td>\n",
              "      <td>0</td>\n",
              "      <td>0</td>\n",
              "      <td>0</td>\n",
              "      <td>0</td>\n",
              "      <td>0</td>\n",
              "    </tr>\n",
              "    <tr>\n",
              "      <th>2</th>\n",
              "      <td>3000</td>\n",
              "      <td>0.0</td>\n",
              "      <td>66.0</td>\n",
              "      <td>360.0</td>\n",
              "      <td>1.0</td>\n",
              "      <td>1</td>\n",
              "      <td>1</td>\n",
              "      <td>0</td>\n",
              "      <td>0</td>\n",
              "      <td>0</td>\n",
              "      <td>0</td>\n",
              "      <td>1</td>\n",
              "      <td>0</td>\n",
              "      <td>1</td>\n",
              "      <td>1</td>\n",
              "    </tr>\n",
              "    <tr>\n",
              "      <th>3</th>\n",
              "      <td>2583</td>\n",
              "      <td>2358.0</td>\n",
              "      <td>120.0</td>\n",
              "      <td>360.0</td>\n",
              "      <td>1.0</td>\n",
              "      <td>1</td>\n",
              "      <td>1</td>\n",
              "      <td>0</td>\n",
              "      <td>0</td>\n",
              "      <td>0</td>\n",
              "      <td>1</td>\n",
              "      <td>0</td>\n",
              "      <td>0</td>\n",
              "      <td>1</td>\n",
              "      <td>1</td>\n",
              "    </tr>\n",
              "    <tr>\n",
              "      <th>4</th>\n",
              "      <td>6000</td>\n",
              "      <td>0.0</td>\n",
              "      <td>141.0</td>\n",
              "      <td>360.0</td>\n",
              "      <td>1.0</td>\n",
              "      <td>1</td>\n",
              "      <td>0</td>\n",
              "      <td>0</td>\n",
              "      <td>0</td>\n",
              "      <td>0</td>\n",
              "      <td>0</td>\n",
              "      <td>0</td>\n",
              "      <td>0</td>\n",
              "      <td>1</td>\n",
              "      <td>1</td>\n",
              "    </tr>\n",
              "  </tbody>\n",
              "</table>\n",
              "</div>\n",
              "      <button class=\"colab-df-convert\" onclick=\"convertToInteractive('df-fb6b2d74-3ecf-4ea2-aa44-aee3658a56e4')\"\n",
              "              title=\"Convert this dataframe to an interactive table.\"\n",
              "              style=\"display:none;\">\n",
              "        \n",
              "  <svg xmlns=\"http://www.w3.org/2000/svg\" height=\"24px\"viewBox=\"0 0 24 24\"\n",
              "       width=\"24px\">\n",
              "    <path d=\"M0 0h24v24H0V0z\" fill=\"none\"/>\n",
              "    <path d=\"M18.56 5.44l.94 2.06.94-2.06 2.06-.94-2.06-.94-.94-2.06-.94 2.06-2.06.94zm-11 1L8.5 8.5l.94-2.06 2.06-.94-2.06-.94L8.5 2.5l-.94 2.06-2.06.94zm10 10l.94 2.06.94-2.06 2.06-.94-2.06-.94-.94-2.06-.94 2.06-2.06.94z\"/><path d=\"M17.41 7.96l-1.37-1.37c-.4-.4-.92-.59-1.43-.59-.52 0-1.04.2-1.43.59L10.3 9.45l-7.72 7.72c-.78.78-.78 2.05 0 2.83L4 21.41c.39.39.9.59 1.41.59.51 0 1.02-.2 1.41-.59l7.78-7.78 2.81-2.81c.8-.78.8-2.07 0-2.86zM5.41 20L4 18.59l7.72-7.72 1.47 1.35L5.41 20z\"/>\n",
              "  </svg>\n",
              "      </button>\n",
              "      \n",
              "  <style>\n",
              "    .colab-df-container {\n",
              "      display:flex;\n",
              "      flex-wrap:wrap;\n",
              "      gap: 12px;\n",
              "    }\n",
              "\n",
              "    .colab-df-convert {\n",
              "      background-color: #E8F0FE;\n",
              "      border: none;\n",
              "      border-radius: 50%;\n",
              "      cursor: pointer;\n",
              "      display: none;\n",
              "      fill: #1967D2;\n",
              "      height: 32px;\n",
              "      padding: 0 0 0 0;\n",
              "      width: 32px;\n",
              "    }\n",
              "\n",
              "    .colab-df-convert:hover {\n",
              "      background-color: #E2EBFA;\n",
              "      box-shadow: 0px 1px 2px rgba(60, 64, 67, 0.3), 0px 1px 3px 1px rgba(60, 64, 67, 0.15);\n",
              "      fill: #174EA6;\n",
              "    }\n",
              "\n",
              "    [theme=dark] .colab-df-convert {\n",
              "      background-color: #3B4455;\n",
              "      fill: #D2E3FC;\n",
              "    }\n",
              "\n",
              "    [theme=dark] .colab-df-convert:hover {\n",
              "      background-color: #434B5C;\n",
              "      box-shadow: 0px 1px 3px 1px rgba(0, 0, 0, 0.15);\n",
              "      filter: drop-shadow(0px 1px 2px rgba(0, 0, 0, 0.3));\n",
              "      fill: #FFFFFF;\n",
              "    }\n",
              "  </style>\n",
              "\n",
              "      <script>\n",
              "        const buttonEl =\n",
              "          document.querySelector('#df-fb6b2d74-3ecf-4ea2-aa44-aee3658a56e4 button.colab-df-convert');\n",
              "        buttonEl.style.display =\n",
              "          google.colab.kernel.accessAllowed ? 'block' : 'none';\n",
              "\n",
              "        async function convertToInteractive(key) {\n",
              "          const element = document.querySelector('#df-fb6b2d74-3ecf-4ea2-aa44-aee3658a56e4');\n",
              "          const dataTable =\n",
              "            await google.colab.kernel.invokeFunction('convertToInteractive',\n",
              "                                                     [key], {});\n",
              "          if (!dataTable) return;\n",
              "\n",
              "          const docLinkHtml = 'Like what you see? Visit the ' +\n",
              "            '<a target=\"_blank\" href=https://colab.research.google.com/notebooks/data_table.ipynb>data table notebook</a>'\n",
              "            + ' to learn more about interactive tables.';\n",
              "          element.innerHTML = '';\n",
              "          dataTable['output_type'] = 'display_data';\n",
              "          await google.colab.output.renderOutput(dataTable, element);\n",
              "          const docLink = document.createElement('div');\n",
              "          docLink.innerHTML = docLinkHtml;\n",
              "          element.appendChild(docLink);\n",
              "        }\n",
              "      </script>\n",
              "    </div>\n",
              "  </div>\n",
              "  "
            ],
            "text/plain": [
              "   ApplicantIncome  CoapplicantIncome  ...  Property_Area_Urban  Loan_Status_Y\n",
              "0             5849                0.0  ...                    1              1\n",
              "1             4583             1508.0  ...                    0              0\n",
              "2             3000                0.0  ...                    1              1\n",
              "3             2583             2358.0  ...                    1              1\n",
              "4             6000                0.0  ...                    1              1\n",
              "\n",
              "[5 rows x 15 columns]"
            ]
          },
          "metadata": {},
          "execution_count": 211
        }
      ]
    },
    {
      "cell_type": "markdown",
      "source": [
        "### **Normalising data**"
      ],
      "metadata": {
        "id": "xkxS6SpQgPe3"
      }
    },
    {
      "cell_type": "code",
      "source": [
        "# First, we separate the target variable from the features \n",
        "y = df1['Loan_Status_Y']\n",
        "X = df1.drop('Loan_Status_Y', axis = 1)"
      ],
      "metadata": {
        "id": "hT0Y0SpSgRoX"
      },
      "execution_count": 212,
      "outputs": []
    },
    {
      "cell_type": "code",
      "source": [
        "from sklearn.preprocessing import StandardScaler\n",
        "\n",
        "# Data standardisation\n",
        "X = StandardScaler().fit(X).transform(X)"
      ],
      "metadata": {
        "id": "5PcP2tjugTiO"
      },
      "execution_count": 213,
      "outputs": []
    },
    {
      "cell_type": "markdown",
      "source": [
        "## **Modelling**"
      ],
      "metadata": {
        "id": "tFA3jqnGgXUK"
      }
    },
    {
      "cell_type": "code",
      "source": [
        "# Importing packages for modelling\n",
        "from sklearn.model_selection import train_test_split, learning_curve, GridSearchCV\n",
        "from sklearn.metrics import accuracy_score, f1_score, confusion_matrix, classification_report, precision_score, recall_score"
      ],
      "metadata": {
        "id": "PowqcRvvAoXX"
      },
      "execution_count": 214,
      "outputs": []
    },
    {
      "cell_type": "markdown",
      "source": [
        "### **Data partitioning**"
      ],
      "metadata": {
        "id": "RIbnNgEyggMo"
      }
    },
    {
      "cell_type": "markdown",
      "source": [
        "- **80%** : Training data\n",
        "\n",
        "- **20%** : Test data"
      ],
      "metadata": {
        "id": "Z1JNErNZgl-H"
      }
    },
    {
      "cell_type": "code",
      "source": [
        "# Split the data into training and test data with the train_test_split function\n",
        "X_train, X_test, y_train, y_test = train_test_split(X, y, test_size = 0.2, stratify = y, random_state = 42)"
      ],
      "metadata": {
        "id": "XQPyLFx5goeX"
      },
      "execution_count": 215,
      "outputs": []
    },
    {
      "cell_type": "code",
      "source": [
        "print(\"X_train : \", X_train.shape)\n",
        "print(\"y_train : \", y_train.shape)\n",
        "print('-'*35)\n",
        "print(\"X_test  : \", X_test.shape)\n",
        "print(\"y_test  : \", y_test.shape)"
      ],
      "metadata": {
        "colab": {
          "base_uri": "https://localhost:8080/"
        },
        "id": "XKeNAhdBgp-T",
        "outputId": "e9cf7bbd-6b27-4b6a-fa4d-166d247d8716"
      },
      "execution_count": 216,
      "outputs": [
        {
          "output_type": "stream",
          "name": "stdout",
          "text": [
            "X_train :  (491, 14)\n",
            "y_train :  (491,)\n",
            "-----------------------------------\n",
            "X_test  :  (123, 14)\n",
            "y_test  :  (123,)\n"
          ]
        }
      ]
    },
    {
      "cell_type": "markdown",
      "source": [
        "### **Evaluation procedure**"
      ],
      "metadata": {
        "id": "k9Vq3zoegs-V"
      }
    },
    {
      "cell_type": "code",
      "source": [
        "# Scores will contain the different scores obtained by our models\n",
        "scores = {}"
      ],
      "metadata": {
        "id": "ktJUNBe7gv38"
      },
      "execution_count": 217,
      "outputs": []
    },
    {
      "cell_type": "code",
      "source": [
        "def evaluation(model, name_in_scores):\n",
        "    \"\"\"\n",
        "    Function that allows to evaluate a model\n",
        "    \n",
        "    model: a machine learning model\n",
        "    name_in_scores: the name of the model in the scores dictionary\n",
        "    \"\"\"\n",
        "    print('')\n",
        "    print('')\n",
        "    print(model)\n",
        "    print('')\n",
        "    print('')\n",
        "    print('-'*60)\n",
        "    print('')\n",
        "    \n",
        "    # See if our model is overfitting or underfitting\n",
        "    print(\"Learning Curves\")\n",
        "    print('')\n",
        "    N, train_score, val_score = learning_curve(model, \n",
        "                                               X_train, \n",
        "                                               y_train, \n",
        "                                               scoring = 'accuracy',\n",
        "                                               train_sizes= np.linspace(0.1, 1.0, 5),\n",
        "                                               cv = 5\n",
        "                                               )\n",
        "\n",
        "    plt.plot(N, train_score.mean(axis=1), label='train score')\n",
        "    plt.plot(N, val_score.mean(axis=1), label='validation score')\n",
        "    plt.legend()\n",
        "    plt.show()\n",
        "    print('-'*60)\n",
        "    print('')\n",
        "    \n",
        "    y_pred_train = model.predict(X_train)\n",
        "    y_pred_test = model.predict(X_test)\n",
        "    \n",
        "    # The confusion matrix\n",
        "    print(\"Confusion matrix\")\n",
        "    print('')\n",
        "    \n",
        "    # Calculation of the confusion matrix\n",
        "    cf_matrix = confusion_matrix(y_test, y_pred_test)\n",
        "    \n",
        "    # Visualize the matrix\n",
        "    sns.heatmap(cf_matrix, \n",
        "                annot=True,\n",
        "                xticklabels = ['False','True'],\n",
        "                yticklabels = ['False','True'])\n",
        "    plt.xlabel(\"Predicted Classes\")\n",
        "    plt.ylabel(\"Real Classes\")\n",
        "    plt.show()\n",
        "    \n",
        "    print('-'*60)\n",
        "    print('')\n",
        "    \n",
        "    # The classification report\n",
        "    print(\"The classification report\")\n",
        "    print('')\n",
        "    print(classification_report(y_test, y_pred_test))\n",
        "    print('-'*60)\n",
        "    print('')\n",
        "    \n",
        "\n",
        "    \n",
        "    print(\"Train set accuracy score : \", accuracy_score(y_train, y_pred_train))\n",
        "    print(\"Train set f1 score : \", f1_score(y_train, y_pred_train))\n",
        "    print(\"Test set accuracy score : \", accuracy_score(y_test, y_pred_test))\n",
        "    print(\"Test set f1 score : \", f1_score(y_test, y_pred_test))\n",
        "    print('')\n",
        "    print('')\n",
        "    print('-'*60)\n",
        "    print('')\n",
        "    print('')\n",
        "\n",
        "    scores[name_in_scores] = [\n",
        "        np.around(accuracy_score(y_test, y_pred_test), 4) * 100,\n",
        "        np.around(precision_score(y_test, y_pred_test), 4) * 100,\n",
        "        np.around(recall_score(y_test, y_pred_test), 4) * 100,\n",
        "        np.around(f1_score(y_test, y_pred_test), 4) * 100\n",
        "    ]"
      ],
      "metadata": {
        "id": "3pHv5OiVgyH3"
      },
      "execution_count": 218,
      "outputs": []
    },
    {
      "cell_type": "markdown",
      "source": [
        "## **Implementation of models**"
      ],
      "metadata": {
        "id": "wlvntsIag1YV"
      }
    },
    {
      "cell_type": "markdown",
      "source": [
        "### **K-Nearest Neighbors**"
      ],
      "metadata": {
        "id": "2Tjd01_Ig3jg"
      }
    },
    {
      "cell_type": "code",
      "source": [
        "from sklearn.neighbors import KNeighborsClassifier\n",
        "\n",
        "knn = KNeighborsClassifier()\n",
        "\n",
        "knn_hyp = {\n",
        "    'n_neighbors': np.arange(1, 10),\n",
        "    'metric': ['euclidean', 'manhattan', 'minkowski'],\n",
        "}\n",
        "\n",
        "knn_grid = GridSearchCV(knn, knn_hyp, scoring = \"accuracy\", cv = 5)\n",
        "\n",
        "knn_grid.fit(X_train, y_train)\n",
        "\n",
        "knn_model = knn_grid.best_estimator_\n",
        "\n",
        "evaluation(knn_model, \"K-Nearest Neighbors\")"
      ],
      "metadata": {
        "colab": {
          "base_uri": "https://localhost:8080/",
          "height": 1000
        },
        "id": "9yIwLL_Ig5Ux",
        "outputId": "8eac30ae-821a-4eac-bfe4-afbf0ae6462a"
      },
      "execution_count": 219,
      "outputs": [
        {
          "output_type": "stream",
          "name": "stdout",
          "text": [
            "\n",
            "\n",
            "KNeighborsClassifier(metric='euclidean', n_neighbors=9)\n",
            "\n",
            "\n",
            "------------------------------------------------------------\n",
            "\n",
            "Learning Curves\n",
            "\n"
          ]
        },
        {
          "output_type": "display_data",
          "data": {
            "image/png": "[encoded data removed]",
            "text/plain": [
              "<Figure size 432x288 with 1 Axes>"
            ]
          },
          "metadata": {
            "needs_background": "light"
          }
        },
        {
          "output_type": "stream",
          "name": "stdout",
          "text": [
            "------------------------------------------------------------\n",
            "\n",
            "Confusion matrix\n",
            "\n"
          ]
        },
        {
          "output_type": "display_data",
          "data": {
            "image/png": "[encoded data removed]",
            "text/plain": [
              "<Figure size 432x288 with 2 Axes>"
            ]
          },
          "metadata": {
            "needs_background": "light"
          }
        },
        {
          "output_type": "stream",
          "name": "stdout",
          "text": [
            "------------------------------------------------------------\n",
            "\n",
            "The classification report\n",
            "\n",
            "              precision    recall  f1-score   support\n",
            "\n",
            "           0       0.90      0.47      0.62        38\n",
            "           1       0.81      0.98      0.88        85\n",
            "\n",
            "    accuracy                           0.82       123\n",
            "   macro avg       0.85      0.73      0.75       123\n",
            "weighted avg       0.83      0.82      0.80       123\n",
            "\n",
            "------------------------------------------------------------\n",
            "\n",
            "Train set accuracy score :  0.7881873727087576\n",
            "Train set f1 score :  0.8635170603674541\n",
            "Test set accuracy score :  0.8211382113821138\n",
            "Test set f1 score :  0.8829787234042553\n",
            "\n",
            "\n",
            "------------------------------------------------------------\n",
            "\n",
            "\n"
          ]
        }
      ]
    },
    {
      "cell_type": "markdown",
      "source": [
        "### **Random Forest**"
      ],
      "metadata": {
        "id": "wY7PRlKfg87R"
      }
    },
    {
      "cell_type": "code",
      "source": [
        "from sklearn.ensemble import RandomForestClassifier\n",
        "\n",
        "rf = RandomForestClassifier(random_state = 42)\n",
        "\n",
        "rf_hyp = {\n",
        "    'n_estimators':[5, 10, 20, 50, 100, 200],\n",
        "    'max_depth':[None, 2, 5, 10, 15, 20]\n",
        "}\n",
        "\n",
        "rf_grid = GridSearchCV(rf, rf_hyp, scoring = \"accuracy\", cv = 5)\n",
        "\n",
        "rf_grid.fit(X_train, y_train)\n",
        "\n",
        "rf_model = rf_grid.best_estimator_\n",
        "\n",
        "evaluation(rf_model, \"Random Forest\")"
      ],
      "metadata": {
        "colab": {
          "base_uri": "https://localhost:8080/",
          "height": 1000
        },
        "id": "3iHuv-qDg_vE",
        "outputId": "5f1c23d9-d793-477c-93a7-b1cb8fe73f14"
      },
      "execution_count": 220,
      "outputs": [
        {
          "output_type": "stream",
          "name": "stdout",
          "text": [
            "\n",
            "\n",
            "RandomForestClassifier(max_depth=5, n_estimators=50, random_state=42)\n",
            "\n",
            "\n",
            "------------------------------------------------------------\n",
            "\n",
            "Learning Curves\n",
            "\n"
          ]
        },
        {
          "output_type": "display_data",
          "data": {
            "image/png": "[encoded data removed]",
            "text/plain": [
              "<Figure size 432x288 with 1 Axes>"
            ]
          },
          "metadata": {
            "needs_background": "light"
          }
        },
        {
          "output_type": "stream",
          "name": "stdout",
          "text": [
            "------------------------------------------------------------\n",
            "\n",
            "Confusion matrix\n",
            "\n"
          ]
        },
        {
          "output_type": "display_data",
          "data": {
            "image/png": "[encoded data removed]",
            "text/plain": [
              "<Figure size 432x288 with 2 Axes>"
            ]
          },
          "metadata": {
            "needs_background": "light"
          }
        },
        {
          "output_type": "stream",
          "name": "stdout",
          "text": [
            "------------------------------------------------------------\n",
            "\n",
            "The classification report\n",
            "\n",
            "              precision    recall  f1-score   support\n",
            "\n",
            "           0       0.95      0.55      0.70        38\n",
            "           1       0.83      0.99      0.90        85\n",
            "\n",
            "    accuracy                           0.85       123\n",
            "   macro avg       0.89      0.77      0.80       123\n",
            "weighted avg       0.87      0.85      0.84       123\n",
            "\n",
            "------------------------------------------------------------\n",
            "\n",
            "Train set accuracy score :  0.814663951120163\n",
            "Train set f1 score :  0.8804204993429698\n",
            "Test set accuracy score :  0.8536585365853658\n",
            "Test set f1 score :  0.903225806451613\n",
            "\n",
            "\n",
            "------------------------------------------------------------\n",
            "\n",
            "\n"
          ]
        }
      ]
    },
    {
      "cell_type": "markdown",
      "source": [
        "### **Logistic Regression**"
      ],
      "metadata": {
        "id": "05EgCb6ShFNv"
      }
    },
    {
      "cell_type": "code",
      "source": [
        "from sklearn.linear_model import LogisticRegression \n",
        "\n",
        "lr = LogisticRegression(random_state = 42)\n",
        "\n",
        "lr_hyp = {\n",
        "    'C':[0.001, 0.01, 0.1, 1, 10]\n",
        "}\n",
        "\n",
        "lr_grid = GridSearchCV(lr, lr_hyp, scoring = \"accuracy\", cv = 5)\n",
        "\n",
        "lr_grid.fit(X_train, y_train)\n",
        "\n",
        "lr_model = lr_grid.best_estimator_\n",
        "\n",
        "evaluation(lr_model, \"Logistic Regression\")"
      ],
      "metadata": {
        "colab": {
          "base_uri": "https://localhost:8080/",
          "height": 1000
        },
        "id": "Hv5BvY3ChHxS",
        "outputId": "b0f81a1d-7bcf-4c54-ac1d-431f45280e72"
      },
      "execution_count": 221,
      "outputs": [
        {
          "output_type": "stream",
          "name": "stdout",
          "text": [
            "\n",
            "\n",
            "LogisticRegression(C=0.1, random_state=42)\n",
            "\n",
            "\n",
            "------------------------------------------------------------\n",
            "\n",
            "Learning Curves\n",
            "\n"
          ]
        },
        {
          "output_type": "display_data",
          "data": {
            "image/png": "[encoded data removed]",
            "text/plain": [
              "<Figure size 432x288 with 1 Axes>"
            ]
          },
          "metadata": {
            "needs_background": "light"
          }
        },
        {
          "output_type": "stream",
          "name": "stdout",
          "text": [
            "------------------------------------------------------------\n",
            "\n",
            "Confusion matrix\n",
            "\n"
          ]
        },
        {
          "output_type": "display_data",
          "data": {
            "image/png": "[encoded data removed]",
            "text/plain": [
              "<Figure size 432x288 with 2 Axes>"
            ]
          },
          "metadata": {
            "needs_background": "light"
          }
        },
        {
          "output_type": "stream",
          "name": "stdout",
          "text": [
            "------------------------------------------------------------\n",
            "\n",
            "The classification report\n",
            "\n",
            "              precision    recall  f1-score   support\n",
            "\n",
            "           0       0.96      0.58      0.72        38\n",
            "           1       0.84      0.99      0.91        85\n",
            "\n",
            "    accuracy                           0.86       123\n",
            "   macro avg       0.90      0.78      0.81       123\n",
            "weighted avg       0.88      0.86      0.85       123\n",
            "\n",
            "------------------------------------------------------------\n",
            "\n",
            "Train set accuracy score :  0.8004073319755601\n",
            "Train set f1 score :  0.8710526315789474\n",
            "Test set accuracy score :  0.8617886178861789\n",
            "Test set f1 score :  0.9081081081081082\n",
            "\n",
            "\n",
            "------------------------------------------------------------\n",
            "\n",
            "\n"
          ]
        }
      ]
    },
    {
      "cell_type": "markdown",
      "source": [
        "## **Results**"
      ],
      "metadata": {
        "id": "jAlbulxshNs1"
      }
    },
    {
      "cell_type": "code",
      "source": [
        "df_scores = pd.DataFrame(scores.values(), index=scores.keys(), columns=['Accuracy', 'Precision', 'Recall', 'F1-Score'])\n",
        "df_scores"
      ],
      "metadata": {
        "colab": {
          "base_uri": "https://localhost:8080/",
          "height": 143
        },
        "id": "9nsGnfWfhR90",
        "outputId": "c9340e22-433c-417c-87ff-9daea620d768"
      },
      "execution_count": 222,
      "outputs": [
        {
          "output_type": "execute_result",
          "data": {
            "text/html": [
              "\n",
              "  <div id=\"df-64aacac5-8a21-42b8-b3d9-1bf69d5cba36\">\n",
              "    <div class=\"colab-df-container\">\n",
              "      <div>\n",
              "<style scoped>\n",
              "    .dataframe tbody tr th:only-of-type {\n",
              "        vertical-align: middle;\n",
              "    }\n",
              "\n",
              "    .dataframe tbody tr th {\n",
              "        vertical-align: top;\n",
              "    }\n",
              "\n",
              "    .dataframe thead th {\n",
              "        text-align: right;\n",
              "    }\n",
              "</style>\n",
              "<table border=\"1\" class=\"dataframe\">\n",
              "  <thead>\n",
              "    <tr style=\"text-align: right;\">\n",
              "      <th></th>\n",
              "      <th>Accuracy</th>\n",
              "      <th>Precision</th>\n",
              "      <th>Recall</th>\n",
              "      <th>F1-Score</th>\n",
              "    </tr>\n",
              "  </thead>\n",
              "  <tbody>\n",
              "    <tr>\n",
              "      <th>K-Nearest Neighbors</th>\n",
              "      <td>82.11</td>\n",
              "      <td>80.58</td>\n",
              "      <td>97.65</td>\n",
              "      <td>88.30</td>\n",
              "    </tr>\n",
              "    <tr>\n",
              "      <th>Random Forest</th>\n",
              "      <td>85.37</td>\n",
              "      <td>83.17</td>\n",
              "      <td>98.82</td>\n",
              "      <td>90.32</td>\n",
              "    </tr>\n",
              "    <tr>\n",
              "      <th>Logistic Regression</th>\n",
              "      <td>86.18</td>\n",
              "      <td>84.00</td>\n",
              "      <td>98.82</td>\n",
              "      <td>90.81</td>\n",
              "    </tr>\n",
              "  </tbody>\n",
              "</table>\n",
              "</div>\n",
              "      <button class=\"colab-df-convert\" onclick=\"convertToInteractive('df-64aacac5-8a21-42b8-b3d9-1bf69d5cba36')\"\n",
              "              title=\"Convert this dataframe to an interactive table.\"\n",
              "              style=\"display:none;\">\n",
              "        \n",
              "  <svg xmlns=\"http://www.w3.org/2000/svg\" height=\"24px\"viewBox=\"0 0 24 24\"\n",
              "       width=\"24px\">\n",
              "    <path d=\"M0 0h24v24H0V0z\" fill=\"none\"/>\n",
              "    <path d=\"M18.56 5.44l.94 2.06.94-2.06 2.06-.94-2.06-.94-.94-2.06-.94 2.06-2.06.94zm-11 1L8.5 8.5l.94-2.06 2.06-.94-2.06-.94L8.5 2.5l-.94 2.06-2.06.94zm10 10l.94 2.06.94-2.06 2.06-.94-2.06-.94-.94-2.06-.94 2.06-2.06.94z\"/><path d=\"M17.41 7.96l-1.37-1.37c-.4-.4-.92-.59-1.43-.59-.52 0-1.04.2-1.43.59L10.3 9.45l-7.72 7.72c-.78.78-.78 2.05 0 2.83L4 21.41c.39.39.9.59 1.41.59.51 0 1.02-.2 1.41-.59l7.78-7.78 2.81-2.81c.8-.78.8-2.07 0-2.86zM5.41 20L4 18.59l7.72-7.72 1.47 1.35L5.41 20z\"/>\n",
              "  </svg>\n",
              "      </button>\n",
              "      \n",
              "  <style>\n",
              "    .colab-df-container {\n",
              "      display:flex;\n",
              "      flex-wrap:wrap;\n",
              "      gap: 12px;\n",
              "    }\n",
              "\n",
              "    .colab-df-convert {\n",
              "      background-color: #E8F0FE;\n",
              "      border: none;\n",
              "      border-radius: 50%;\n",
              "      cursor: pointer;\n",
              "      display: none;\n",
              "      fill: #1967D2;\n",
              "      height: 32px;\n",
              "      padding: 0 0 0 0;\n",
              "      width: 32px;\n",
              "    }\n",
              "\n",
              "    .colab-df-convert:hover {\n",
              "      background-color: #E2EBFA;\n",
              "      box-shadow: 0px 1px 2px rgba(60, 64, 67, 0.3), 0px 1px 3px 1px rgba(60, 64, 67, 0.15);\n",
              "      fill: #174EA6;\n",
              "    }\n",
              "\n",
              "    [theme=dark] .colab-df-convert {\n",
              "      background-color: #3B4455;\n",
              "      fill: #D2E3FC;\n",
              "    }\n",
              "\n",
              "    [theme=dark] .colab-df-convert:hover {\n",
              "      background-color: #434B5C;\n",
              "      box-shadow: 0px 1px 3px 1px rgba(0, 0, 0, 0.15);\n",
              "      filter: drop-shadow(0px 1px 2px rgba(0, 0, 0, 0.3));\n",
              "      fill: #FFFFFF;\n",
              "    }\n",
              "  </style>\n",
              "\n",
              "      <script>\n",
              "        const buttonEl =\n",
              "          document.querySelector('#df-64aacac5-8a21-42b8-b3d9-1bf69d5cba36 button.colab-df-convert');\n",
              "        buttonEl.style.display =\n",
              "          google.colab.kernel.accessAllowed ? 'block' : 'none';\n",
              "\n",
              "        async function convertToInteractive(key) {\n",
              "          const element = document.querySelector('#df-64aacac5-8a21-42b8-b3d9-1bf69d5cba36');\n",
              "          const dataTable =\n",
              "            await google.colab.kernel.invokeFunction('convertToInteractive',\n",
              "                                                     [key], {});\n",
              "          if (!dataTable) return;\n",
              "\n",
              "          const docLinkHtml = 'Like what you see? Visit the ' +\n",
              "            '<a target=\"_blank\" href=https://colab.research.google.com/notebooks/data_table.ipynb>data table notebook</a>'\n",
              "            + ' to learn more about interactive tables.';\n",
              "          element.innerHTML = '';\n",
              "          dataTable['output_type'] = 'display_data';\n",
              "          await google.colab.output.renderOutput(dataTable, element);\n",
              "          const docLink = document.createElement('div');\n",
              "          docLink.innerHTML = docLinkHtml;\n",
              "          element.appendChild(docLink);\n",
              "        }\n",
              "      </script>\n",
              "    </div>\n",
              "  </div>\n",
              "  "
            ],
            "text/plain": [
              "                     Accuracy  Precision  Recall  F1-Score\n",
              "K-Nearest Neighbors     82.11      80.58   97.65     88.30\n",
              "Random Forest           85.37      83.17   98.82     90.32\n",
              "Logistic Regression     86.18      84.00   98.82     90.81"
            ]
          },
          "metadata": {},
          "execution_count": 222
        }
      ]
    },
    {
      "cell_type": "markdown",
      "source": [
        "## **Conclusion**"
      ],
      "metadata": {
        "id": "UC24Lw95hXFj"
      }
    },
    {
      "cell_type": "markdown",
      "source": [
        "The comparative results indicate that Model 3 using logistic regression gives better estimates compared to the other two models. In sum, we conclude that this model can provide a fast and reliable approach to decision making that can be an alternative to the current procedures adopted by banks to process an applicant's loan approval."
      ],
      "metadata": {
        "id": "f4l05AwRiPr_"
      }
    }
  ]
}